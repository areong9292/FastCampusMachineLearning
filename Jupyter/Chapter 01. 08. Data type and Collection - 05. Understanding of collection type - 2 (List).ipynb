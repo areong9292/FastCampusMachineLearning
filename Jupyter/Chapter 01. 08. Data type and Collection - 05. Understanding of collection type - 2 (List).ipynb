{
 "cells": [
  {
   "cell_type": "code",
   "execution_count": 3,
   "metadata": {},
   "outputs": [
    {
     "name": "stdout",
     "output_type": "stream",
     "text": [
      "[1, 2, 3, 4, 5, 10]\n"
     ]
    }
   ],
   "source": [
    "# 제일 뒤에 값 추가\n",
    "a=[1,2,3,4,5]\n",
    "a.append(10)\n",
    "\n",
    "print(a)"
   ]
  },
  {
   "cell_type": "code",
   "execution_count": 9,
   "metadata": {},
   "outputs": [
    {
     "name": "stdout",
     "output_type": "stream",
     "text": [
      "[1, 2, 3, 4, 5, 6, 7, 8, 9, 10]\n",
      "[1, 2, 3, 4, 5, 6, 7, 8, 9, 10, 6, 7, 8, 9, 10]\n"
     ]
    }
   ],
   "source": [
    "# 리스트 뒤에 값 추가하기\n",
    "a = [1,2,3,4,5]\n",
    "b = [6,7,8,9,10]\n",
    "\n",
    "a.extend(b)\n",
    "print(a)\n",
    "\n",
    "# 이거도 된다\n",
    "a+=b\n",
    "print(a)"
   ]
  },
  {
   "cell_type": "code",
   "execution_count": 11,
   "metadata": {},
   "outputs": [
    {
     "name": "stdout",
     "output_type": "stream",
     "text": [
      "[1, 40, 2, 3, 4, 5, 6]\n"
     ]
    }
   ],
   "source": [
    "# 원하는 위치에 추가할 수 있다\n",
    "a = [1,2,3,4,5,6]\n",
    "\n",
    "# 1번 인덱스에 40추가\n",
    "# 나머지는 뒤로 밀려난다\n",
    "a.insert(1,40)\n",
    "print(a)"
   ]
  },
  {
   "cell_type": "code",
   "execution_count": 14,
   "metadata": {},
   "outputs": [
    {
     "name": "stdout",
     "output_type": "stream",
     "text": [
      "[1, 3, 4, 5]\n"
     ]
    }
   ],
   "source": [
    "# 특정 값을 삭제\n",
    "a = [1,2,3,4,5]\n",
    "\n",
    "# 리스트에서 2를 삭제한다\n",
    "a.remove(2)\n",
    "print(a)\n",
    "\n",
    "# 여러 개 있으면 가장 앞에 것만 삭제\n",
    "# 지울 값이 리스트에 없으면 오류가 발생한다"
   ]
  },
  {
   "cell_type": "code",
   "execution_count": 18,
   "metadata": {},
   "outputs": [
    {
     "name": "stdout",
     "output_type": "stream",
     "text": [
      "[1, 3, 4, 5]\n",
      "2\n"
     ]
    }
   ],
   "source": [
    "# 가장 마지막 것을 제거\n",
    "# 인덱스 명시 시 해당 인덱스 제거\n",
    "a = [1,2,3,4,5]\n",
    "\n",
    "# 지우는 값을 반환함\n",
    "b = a.pop(1)\n",
    "\n",
    "print(a)\n",
    "print(b)"
   ]
  },
  {
   "cell_type": "code",
   "execution_count": 19,
   "metadata": {},
   "outputs": [
    {
     "data": {
      "text/plain": [
       "1"
      ]
     },
     "execution_count": 19,
     "metadata": {},
     "output_type": "execute_result"
    }
   ],
   "source": [
    "# 특정 값의 인덱스 반환\n",
    "a = [2,6,7,9,10]\n",
    "a.index(6)\n",
    "\n",
    "# 없는 거 찾으면 에러 뱉음"
   ]
  },
  {
   "cell_type": "code",
   "execution_count": 23,
   "metadata": {},
   "outputs": [
    {
     "name": "stdout",
     "output_type": "stream",
     "text": [
      "False\n"
     ]
    }
   ],
   "source": [
    "# 리스트 내에 해당 값이 존재하는지 여부\n",
    "a = [1,2,3,4,5,10]\n",
    "b = 7\n",
    "\n",
    "# a안에 b가 있는가\n",
    "c = b in a\n",
    "print(c)"
   ]
  },
  {
   "cell_type": "code",
   "execution_count": 31,
   "metadata": {},
   "outputs": [
    {
     "name": "stdout",
     "output_type": "stream",
     "text": [
      "[1, 2, 7, 7, 8, 9, 10, 19, 20, 21]\n",
      "[21, 20, 19, 10, 9, 8, 7, 7, 2, 1]\n",
      "\n",
      "[1, 2, 7, 7, 8, 9, 10, 19, 20, 21]\n",
      "[21, 20, 19, 10, 9, 8, 7, 7, 2, 1]\n"
     ]
    }
   ],
   "source": [
    "# 리스트 정렬\n",
    "a = [9,10,7,19,1,2,20,21,7,8]\n",
    "a.sort()\n",
    "print(a)\n",
    "\n",
    "# 역순 정렬\n",
    "a.sort(reverse = True)\n",
    "print(a)\n",
    "\n",
    "print()\n",
    "# 원본은 두고 정렬된 값을 리턴\n",
    "b = sorted(a)\n",
    "print(b)\n",
    "print(a)"
   ]
  },
  {
   "cell_type": "code",
   "execution_count": null,
   "metadata": {},
   "outputs": [],
   "source": []
  }
 ],
 "metadata": {
  "kernelspec": {
   "display_name": "Python 3",
   "language": "python",
   "name": "python3"
  },
  "language_info": {
   "codemirror_mode": {
    "name": "ipython",
    "version": 3
   },
   "file_extension": ".py",
   "mimetype": "text/x-python",
   "name": "python",
   "nbconvert_exporter": "python",
   "pygments_lexer": "ipython3",
   "version": "3.7.4"
  }
 },
 "nbformat": 4,
 "nbformat_minor": 2
}
