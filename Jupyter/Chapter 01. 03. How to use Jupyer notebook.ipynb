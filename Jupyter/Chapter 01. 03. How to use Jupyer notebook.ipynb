{
 "cells": [
  {
   "cell_type": "markdown",
   "metadata": {},
   "source": [
    "# markdown = 주석인듯 하다\n",
    "## markdown = 걍 잡다한거 다 나열할 수 있다"
   ]
  },
  {
   "cell_type": "markdown",
   "metadata": {},
   "source": [
    "**python** is really *cool*\n",
    "\n",
    "순서없는 리스트\n",
    "- python\n",
    " - pad\n",
    "\n",
    "- java\n",
    "- c++\n",
    "- golang\n",
    "\n",
    "\n",
    "1. D\n",
    "    1. 2343\n",
    "2. DASD\n",
    "\n",
    "> 파이썬 굿\n",
    "\n",
    "수학 공식처럼 표시\n",
    "$y = 3x$\n",
    "\n",
    "파이썬 코드 명시\n",
    "```python\n",
    "a=10\n",
    "print(a)\n",
    "```\n",
    "\n",
    "\n",
    "[파이썬 공식 페이지](https://www.python.org/)"
   ]
  },
  {
   "cell_type": "code",
   "execution_count": 10,
   "metadata": {},
   "outputs": [
    {
     "name": "stdout",
     "output_type": "stream",
     "text": [
      "10\n"
     ]
    }
   ],
   "source": [
    "a=10\n",
    "print(a)"
   ]
  }
 ],
 "metadata": {
  "kernelspec": {
   "display_name": "Python 3",
   "language": "python",
   "name": "python3"
  },
  "language_info": {
   "codemirror_mode": {
    "name": "ipython",
    "version": 3
   },
   "file_extension": ".py",
   "mimetype": "text/x-python",
   "name": "python",
   "nbconvert_exporter": "python",
   "pygments_lexer": "ipython3",
   "version": "3.7.4"
  }
 },
 "nbformat": 4,
 "nbformat_minor": 2
}
