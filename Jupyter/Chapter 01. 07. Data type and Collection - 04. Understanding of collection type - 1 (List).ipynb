{
 "cells": [
  {
   "cell_type": "code",
   "execution_count": 1,
   "metadata": {},
   "outputs": [
    {
     "name": "stdout",
     "output_type": "stream",
     "text": [
      "[]\n"
     ]
    }
   ],
   "source": [
    "# a라고 하는 빈 리스트를 만듬\n",
    "a = []\n",
    "print(a)"
   ]
  },
  {
   "cell_type": "code",
   "execution_count": 2,
   "metadata": {},
   "outputs": [
    {
     "name": "stdout",
     "output_type": "stream",
     "text": [
      "[1, 2, 3, 5, 10]\n"
     ]
    }
   ],
   "source": [
    "# 초기 값 지정 가능\n",
    "a = [1,2,3,5,10]\n",
    "print(a)"
   ]
  },
  {
   "cell_type": "code",
   "execution_count": 3,
   "metadata": {},
   "outputs": [
    {
     "name": "stdout",
     "output_type": "stream",
     "text": [
      "['korea', 'canada', 1, 23, [34, 56]]\n"
     ]
    }
   ],
   "source": [
    "# 다양한 타입을 한번에 가질 수 있다\n",
    "a = ['korea', 'canada',1,23,[34,56]]\n",
    "print(a)"
   ]
  },
  {
   "cell_type": "code",
   "execution_count": 9,
   "metadata": {},
   "outputs": [
    {
     "name": "stdout",
     "output_type": "stream",
     "text": [
      "['h', 'e', 'l', 'l', 'o', ' ', 'w', 'o', 'r', 'l', 'd']\n"
     ]
    }
   ],
   "source": [
    "# 문자열 리스트 생성\n",
    "# 다른 타입으로 부터 리스트를 생성\n",
    "a = 'hello world'\n",
    "b = list(a)\n",
    "print(b)"
   ]
  },
  {
   "cell_type": "code",
   "execution_count": 10,
   "metadata": {},
   "outputs": [
    {
     "name": "stdout",
     "output_type": "stream",
     "text": [
      "['hello', 'world', 'nice', 'weather']\n"
     ]
    }
   ],
   "source": [
    "# split - 띄어쓰기 기준으로 리스트 생성\n",
    "a = 'hello world nice weather'\n",
    "b = a.split()\n",
    "print(b)"
   ]
  },
  {
   "cell_type": "code",
   "execution_count": 14,
   "metadata": {},
   "outputs": [
    {
     "name": "stdout",
     "output_type": "stream",
     "text": [
      "3\n",
      "6\n",
      "6\n"
     ]
    }
   ],
   "source": [
    "# 리스트 인덱스 접근 가능\n",
    "a = [1,2,3,4,5,6]\n",
    "print(a[2])\n",
    "print(a[5])\n",
    "print(a[-1])"
   ]
  },
  {
   "cell_type": "code",
   "execution_count": 18,
   "metadata": {},
   "outputs": [
    {
     "name": "stdout",
     "output_type": "stream",
     "text": [
      "h\n",
      "jello world\n",
      "['j', 'e', 'l', 'l', 'o', ' ', 'w', 'o', 'r', 'l', 'd']\n"
     ]
    }
   ],
   "source": [
    "a = 'hello world'\n",
    "print(a[0])\n",
    "\n",
    "# 오류 발생됨 - 스트링은 변경 불가\n",
    "# a[0] = 'j'\n",
    "\n",
    "# 특정 범위만 복사해서 쓰거나\n",
    "c = 'j' + a[1:]\n",
    "print(c)\n",
    "\n",
    "# 문자열을 리스트로 변경\n",
    "a = list(a)\n",
    "a[0] = 'j'\n",
    "print(a)"
   ]
  },
  {
   "cell_type": "code",
   "execution_count": 1,
   "metadata": {},
   "outputs": [
    {
     "name": "stdout",
     "output_type": "stream",
     "text": [
      "[100, 2, 3, 4, 90]\n"
     ]
    }
   ],
   "source": [
    "# 인덱스로 값 업데이트 가능\n",
    "a = [1, 2, 3, 4, 5]\n",
    "a[0] = 100\n",
    "a[-1] = 90\n",
    "print(a)"
   ]
  },
  {
   "cell_type": "code",
   "execution_count": 7,
   "metadata": {},
   "outputs": [
    {
     "name": "stdout",
     "output_type": "stream",
     "text": [
      "[5, 6, 7]\n",
      "[1, 2, 3, 4, 5, 6, 7]\n",
      "[4, 5, 6, 7, 8]\n",
      "[1, 2, 3, 4, 5, 6, 7, 8]\n"
     ]
    },
    {
     "data": {
      "text/plain": [
       "[2, 4, 6]"
      ]
     },
     "execution_count": 7,
     "metadata": {},
     "output_type": "execute_result"
    }
   ],
   "source": [
    "# 문자열처럼 자를 수 있다\n",
    "a = [1,2,3,4,5,6,7,8]\n",
    "print(a[4:7])\n",
    "print(a[:7])\n",
    "print(a[3:])\n",
    "print(a[:])\n",
    "\n",
    "# slicing\n",
    "# start:end:increment\n",
    "# 숨겨진 increment가 있다\n",
    "# 인덱스 증가되는 값 - default 1\n",
    "a[1:7:2]"
   ]
  },
  {
   "cell_type": "code",
   "execution_count": null,
   "metadata": {},
   "outputs": [],
   "source": []
  }
 ],
 "metadata": {
  "kernelspec": {
   "display_name": "Python 3",
   "language": "python",
   "name": "python3"
  },
  "language_info": {
   "codemirror_mode": {
    "name": "ipython",
    "version": 3
   },
   "file_extension": ".py",
   "mimetype": "text/x-python",
   "name": "python",
   "nbconvert_exporter": "python",
   "pygments_lexer": "ipython3",
   "version": "3.7.4"
  }
 },
 "nbformat": 4,
 "nbformat_minor": 2
}
