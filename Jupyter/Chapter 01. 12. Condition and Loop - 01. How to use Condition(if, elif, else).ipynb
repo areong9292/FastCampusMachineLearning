{
 "cells": [
  {
   "cell_type": "markdown",
   "metadata": {},
   "source": [
    "## 조건문\n",
    "- 특정 조건을 만족하는 경우에만 수행할 작업이 있는 경우 사용"
   ]
  },
  {
   "cell_type": "markdown",
   "metadata": {},
   "source": [
    "들여쓰기 = 한 로직임을 나타낸다 - 코드블럭"
   ]
  },
  {
   "cell_type": "code",
   "execution_count": 7,
   "metadata": {
    "scrolled": true
   },
   "outputs": [
    {
     "name": "stdout",
     "output_type": "stream",
     "text": [
      "a is greater than b\n",
      "Yeah, it is true\n",
      "This code is not belongs to if statements\n",
      "\n",
      "This code is not belongs to if statements\n"
     ]
    }
   ],
   "source": [
    "a = 6\n",
    "b = 5\n",
    "if a >= b: # 특정 조건을 만족하면 들여쓰기 안의 내용을 실행한다\n",
    "    print ('a is greater than b')\n",
    "    print ('Yeah, it is true')\n",
    "    \n",
    "print('This code is not belongs to if statements')\n",
    "\n",
    "print()\n",
    "\n",
    "a = 5\n",
    "b = 6\n",
    "if a >= b: # 특정 조건을 만족 못하면 들여쓰기 안의 내용을 무시한다\n",
    "    print ('a is greater than b')\n",
    "    print ('Yeah, it is true')\n",
    "    \n",
    "print('This code is not belongs to if statements')"
   ]
  },
  {
   "cell_type": "markdown",
   "metadata": {},
   "source": [
    "## 논리 연산자 우선순위\n",
    "- NOT > AND > OR"
   ]
  },
  {
   "cell_type": "code",
   "execution_count": 10,
   "metadata": {},
   "outputs": [
    {
     "name": "stdout",
     "output_type": "stream",
     "text": [
      "that is false\n"
     ]
    }
   ],
   "source": [
    "a = 10\n",
    "b = 8\n",
    "c = 11\n",
    "\n",
    "# 이런 식으로 논리연산자 연결 가능\n",
    "if a == 10 and b == 9:\n",
    "    print('that is true')\n",
    "else:\n",
    "    print('that is false')"
   ]
  },
  {
   "cell_type": "code",
   "execution_count": 11,
   "metadata": {},
   "outputs": [],
   "source": [
    "if not a == 10: # or if a != 10:\n",
    "    print('a is not tem')"
   ]
  },
  {
   "cell_type": "markdown",
   "metadata": {},
   "source": [
    "### if 조건이 bool이 아닌 경우\n",
    "각 변수의 0을 자처하는 애들(0, 빈 리스트 등등)은 false 아니면 true로 처리"
   ]
  }
 ],
 "metadata": {
  "kernelspec": {
   "display_name": "Python 3",
   "language": "python",
   "name": "python3"
  },
  "language_info": {
   "codemirror_mode": {
    "name": "ipython",
    "version": 3
   },
   "file_extension": ".py",
   "mimetype": "text/x-python",
   "name": "python",
   "nbconvert_exporter": "python",
   "pygments_lexer": "ipython3",
   "version": "3.7.4"
  }
 },
 "nbformat": 4,
 "nbformat_minor": 2
}
