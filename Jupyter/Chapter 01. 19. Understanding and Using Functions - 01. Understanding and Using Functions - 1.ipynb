{
 "cells": [
  {
   "cell_type": "markdown",
   "metadata": {},
   "source": [
    "## 학습목표\n",
    "- 함수의 이해\n",
    "- 함수 구현 및 사용 숙지"
   ]
  },
  {
   "cell_type": "code",
   "execution_count": 1,
   "metadata": {},
   "outputs": [
    {
     "name": "stdout",
     "output_type": "stream",
     "text": [
      "4\n"
     ]
    }
   ],
   "source": [
    "# 내장 함수의 예\n",
    "a = [1, 2, 3, 4]\n",
    "length = len(a) # len이 내장함수\n",
    "print(length)"
   ]
  },
  {
   "cell_type": "code",
   "execution_count": 7,
   "metadata": {},
   "outputs": [],
   "source": [
    "# 함수 만들기\n",
    "# 파라미터는 없을 수 있다\n",
    "# def 함수이름(파라미터1, 2, ... ):\n",
    "    # 함수 내용\n",
    "    # return 출력하고 싶은 값\n",
    "    \n",
    "def add(x, y):\n",
    "    n = x + y\n",
    "    return n"
   ]
  },
  {
   "cell_type": "code",
   "execution_count": 6,
   "metadata": {},
   "outputs": [
    {
     "name": "stdout",
     "output_type": "stream",
     "text": [
      "330\n"
     ]
    }
   ],
   "source": [
    "c = add(30, 300)\n",
    "print(c)"
   ]
  },
  {
   "cell_type": "markdown",
   "metadata": {},
   "source": [
    "### 이름을 함수 기능과 맞게 잘 정해주자\n",
    "- 더하기 함수는 add 이런 식으로"
   ]
  },
  {
   "cell_type": "code",
   "execution_count": 9,
   "metadata": {},
   "outputs": [
    {
     "name": "stdout",
     "output_type": "stream",
     "text": [
      "30\n"
     ]
    }
   ],
   "source": [
    "def substract(x, y):\n",
    "    sub = x - y\n",
    "    return sub\n",
    "\n",
    "# 타입 지정이 안되기 때문에 주의해야한다\n",
    "# a = substract('asdf', 'sdsf')\n",
    "a = substract(100, 70)\n",
    "print(a)"
   ]
  },
  {
   "cell_type": "markdown",
   "metadata": {},
   "source": [
    "### 함수 파라미터에 기본값 지정 가능\n",
    "### 파라미터를 명시하지 않을 경우, 지정된 기본 값으로 대체"
   ]
  },
  {
   "cell_type": "code",
   "execution_count": 14,
   "metadata": {},
   "outputs": [
    {
     "data": {
      "text/plain": [
       "35"
      ]
     },
     "execution_count": 14,
     "metadata": {},
     "output_type": "execute_result"
    }
   ],
   "source": [
    "# 단, 기본 값은 오른쪽에서 부터 지정가능\n",
    "# def add(x = 1, y, z = 5) 이런 식으로 쓰면 에러남\n",
    "\n",
    "def add(x, y, z = 5):\n",
    "    a = x + y + z\n",
    "    return a\n",
    "\n",
    "add(10, 20)"
   ]
  }
 ],
 "metadata": {
  "kernelspec": {
   "display_name": "Python 3",
   "language": "python",
   "name": "python3"
  },
  "language_info": {
   "codemirror_mode": {
    "name": "ipython",
    "version": 3
   },
   "file_extension": ".py",
   "mimetype": "text/x-python",
   "name": "python",
   "nbconvert_exporter": "python",
   "pygments_lexer": "ipython3",
   "version": "3.7.4"
  }
 },
 "nbformat": 4,
 "nbformat_minor": 2
}
