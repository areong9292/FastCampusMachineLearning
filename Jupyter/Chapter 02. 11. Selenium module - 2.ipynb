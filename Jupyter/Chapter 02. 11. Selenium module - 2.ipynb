{
 "cells": [
  {
   "cell_type": "markdown",
   "metadata": {},
   "source": [
    "### 학습 목표\n",
    "- selenium 모듈 사용법 알아보기\n",
    "\n",
    "크롤링의 끝판왕, Requests, BeautifulSoup로 실패해도\n",
    "selenium으로 하면 거의 다 된다"
   ]
  },
  {
   "cell_type": "code",
   "execution_count": 11,
   "metadata": {},
   "outputs": [],
   "source": [
    "# Anaconda Navigator -> Environments에서 selenium 설치해야한다\n",
    "# 검색 시 안나올 수 있는데 Update index 하면 나옴\n",
    "from selenium import webdriver\n",
    "from selenium.webdriver.common.keys import Keys\n",
    "from selenium.webdriver.support.ui import WebDriverWait\n",
    "from selenium.webdriver.support import expected_conditions as EC\n",
    "from selenium.webdriver.common.by import By\n",
    "\n",
    "from bs4 import BeautifulSoup\n",
    "import time"
   ]
  },
  {
   "cell_type": "markdown",
   "metadata": {},
   "source": [
    "#### selenium\n",
    " - 웹페이지 테스트 자동화용 모듈\n",
    " - 개발/테스트용 드라이버(웹브라우저)를 사용하여 실제 사용자가 사용하는 것처럼 동작\n",
    " - 실습전 확인사항\n",
    "   - selenium 모듈 설치\n",
    "   - [크롬 드라이버 다운로드](https://chromedriver.chromium.org/downloads)"
   ]
  },
  {
   "cell_type": "markdown",
   "metadata": {},
   "source": [
    "#### selenium 예제\n",
    " - python.org 로 이동하여 자동으로 검색해보기\n",
    "   1. python.org 사이트 오픈\n",
    "   2. input 필드를 검색하여 Key 이벤트 전달"
   ]
  },
  {
   "cell_type": "code",
   "execution_count": 14,
   "metadata": {},
   "outputs": [],
   "source": [
    "chrome_driver = 'C:/Users/areong/Documents/GitHub/Machine_Learning_Fastcampus/Jupyter/chromedriver_win32/chromedriver'\n",
    "\n",
    "# 크롬 드라이버로 웹 페이지 접근\n",
    "# 다운받은 드라이버와 크롬 프로그램의 버전이 맞아야한다\n",
    "driver = webdriver.Chrome(chrome_driver)\n",
    "driver.get('https://www.python.org')\n",
    "\n",
    "# id-search-field라는 id를 가진 애를 찾는다\n",
    "# input box에 접근\n",
    "search = driver.find_element_by_id('id-search-field')\n",
    "\n",
    "# input box 비움\n",
    "search.clear()\n",
    "\n",
    "# input box에 labda라고 적음\n",
    "search.send_keys('lambda')\n",
    "\n",
    "time.sleep(3)\n",
    "# input box에서 엔터 누름\n",
    "search.send_keys(Keys.RETURN)\n",
    "\n",
    "time.sleep(10)\n",
    "driver.close()"
   ]
  },
  {
   "cell_type": "markdown",
   "metadata": {},
   "source": [
    "#### selenium을 이용한 다음뉴스 웹사이트 크롤링\n",
    " - driver 객체의 find_xxx_by 함수 활용"
   ]
  },
  {
   "cell_type": "code",
   "execution_count": 20,
   "metadata": {},
   "outputs": [
    {
     "data": {
      "text/plain": [
       "'42'"
      ]
     },
     "execution_count": 20,
     "metadata": {},
     "output_type": "execute_result"
    }
   ],
   "source": [
    "chrome_driver = 'C:/Users/areong/Documents/GitHub/Machine_Learning_Fastcampus/Jupyter/chromedriver_win32/chromedriver'\n",
    "driver = webdriver.Chrome(chrome_driver)\n",
    "\n",
    "url = 'https://news.v.daum.net/v/20190728165812603'\n",
    "driver.get(url)\n",
    "\n",
    "# 페이지의 소스 자체를 가져온다\n",
    "src = driver.page_source\n",
    "soup = BeautifulSoup(src)\n",
    "\n",
    "driver.close()\n",
    "\n",
    "# 그래서 이전 강의처럼 따로 받는 게 아닌\n",
    "# 그냥 값만 가져오면 된다\n",
    "comment = soup.select_one('span.alex-count-area')\n",
    "comment.get_text()"
   ]
  }
 ],
 "metadata": {
  "kernelspec": {
   "display_name": "Python 3",
   "language": "python",
   "name": "python3"
  },
  "language_info": {
   "codemirror_mode": {
    "name": "ipython",
    "version": 3
   },
   "file_extension": ".py",
   "mimetype": "text/x-python",
   "name": "python",
   "nbconvert_exporter": "python",
   "pygments_lexer": "ipython3",
   "version": "3.7.4"
  }
 },
 "nbformat": 4,
 "nbformat_minor": 2
}
