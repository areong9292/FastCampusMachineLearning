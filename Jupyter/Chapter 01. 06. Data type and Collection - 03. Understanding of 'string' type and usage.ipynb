{
 "cells": [
  {
   "cell_type": "code",
   "execution_count": 12,
   "metadata": {},
   "outputs": [
    {
     "name": "stdout",
     "output_type": "stream",
     "text": [
      "Hello\" world     end\n",
      "\n",
      "HelloW'orld     end\n",
      "\n",
      "hello\n",
      "\n",
      "World     end\n",
      "\n",
      "hello\n",
      "world\n"
     ]
    }
   ],
   "source": [
    "a='Hello\" world'\n",
    "b=\"HelloW'orld\"\n",
    "# 문자열 내에서 작은 따옴표를 쓰고 싶을때\n",
    "# a는 문자열 어그러진다 그래서 큰따옴표 안에 작은 따옴표 쓸 수 있다\n",
    "# 반대의 경우도 가능함\n",
    "\n",
    "c='''hello\n",
    "\n",
    "World'''\n",
    "d=\"\"\"hello\n",
    "world\"\"\"\n",
    "# 세개짜리 따옴표는 문자열 내에 엔터를 넣을 수 있다\n",
    "\n",
    "print(a,b,c,d,sep=\"     end\\n\\n\")"
   ]
  },
  {
   "cell_type": "code",
   "execution_count": 15,
   "metadata": {},
   "outputs": [
    {
     "name": "stdout",
     "output_type": "stream",
     "text": [
      "hello world\n",
      "\n",
      "\n",
      "aha\thhahaha\n"
     ]
    }
   ],
   "source": [
    "print('hello world\\n\\n') # \\n - 엔터\n",
    "print('aha\\thhahaha')    # \\t - 탭"
   ]
  },
  {
   "cell_type": "markdown",
   "metadata": {},
   "source": [
    "## 문자열 인덱싱 & 자르기"
   ]
  },
  {
   "cell_type": "code",
   "execution_count": 16,
   "metadata": {},
   "outputs": [
    {
     "data": {
      "text/plain": [
       "'H'"
      ]
     },
     "execution_count": 16,
     "metadata": {},
     "output_type": "execute_result"
    }
   ],
   "source": [
    "a='Hello World' # 길이 11\n",
    "a[0]"
   ]
  },
  {
   "cell_type": "code",
   "execution_count": 22,
   "metadata": {},
   "outputs": [
    {
     "name": "stdout",
     "output_type": "stream",
     "text": [
      "H e l l o   W o r l d "
     ]
    }
   ],
   "source": [
    "for char in a:\n",
    "    print(char, sep=\" \", end=\" \")"
   ]
  },
  {
   "cell_type": "markdown",
   "metadata": {},
   "source": [
    "## 파이썬은 음수 인덱스를 지원함"
   ]
  },
  {
   "cell_type": "code",
   "execution_count": 31,
   "metadata": {},
   "outputs": [
    {
     "data": {
      "text/plain": [
       "'d'"
      ]
     },
     "execution_count": 31,
     "metadata": {},
     "output_type": "execute_result"
    }
   ],
   "source": [
    "a[-1] # 마지막 값\n",
    "a[-11] # 첫번째 값\n",
    "# 즉 로테이션 된다 한번만! 더이상 로테 돌아가면 사이즈 벗어난다고 에러\n",
    "\n",
    "# 범위\n",
    "# 0부터 문자열의 길이 -1까지\n",
    "# -문자열의 길이부터 -1까지"
   ]
  },
  {
   "cell_type": "markdown",
   "metadata": {},
   "source": [
    "# 문자열 자르기"
   ]
  },
  {
   "cell_type": "code",
   "execution_count": 35,
   "metadata": {},
   "outputs": [
    {
     "name": "stdout",
     "output_type": "stream",
     "text": [
      "Hell\n"
     ]
    }
   ],
   "source": [
    "# 0부터 4사이(4번 인덱스는 포함 안함)의 문자를 가져와라\n",
    "# 즉, 마지막 인덱스는 가져오지 않는다\n",
    "print(a[0:4])"
   ]
  },
  {
   "cell_type": "code",
   "execution_count": 34,
   "metadata": {},
   "outputs": [
    {
     "name": "stdout",
     "output_type": "stream",
     "text": [
      "ello W\n"
     ]
    }
   ],
   "source": [
    "print(a[1:7])"
   ]
  },
  {
   "cell_type": "code",
   "execution_count": 40,
   "metadata": {},
   "outputs": [
    {
     "name": "stdout",
     "output_type": "stream",
     "text": [
      "Hello World\n",
      "ello World\n"
     ]
    }
   ],
   "source": [
    "# 숫자 생략 가능\n",
    "# 앞은 0으로 디폴트\n",
    "# 뒤는 끝으로 디폴트\n",
    "print(a[:])\n",
    "print(a[1:])"
   ]
  },
  {
   "cell_type": "markdown",
   "metadata": {},
   "source": [
    "# 문자열 함수"
   ]
  },
  {
   "cell_type": "code",
   "execution_count": 42,
   "metadata": {},
   "outputs": [
    {
     "data": {
      "text/plain": [
       "'HELLO WORLD'"
      ]
     },
     "execution_count": 42,
     "metadata": {},
     "output_type": "execute_result"
    }
   ],
   "source": [
    "a = 'Hello World'\n",
    "a.upper() # 대문자로 변경"
   ]
  },
  {
   "cell_type": "code",
   "execution_count": 47,
   "metadata": {},
   "outputs": [
    {
     "name": "stdout",
     "output_type": "stream",
     "text": [
      "asdf World\n",
      "HellOtoI WOtoIrld\n"
     ]
    }
   ],
   "source": [
    "print(a.replace('Hello', 'asdf')) # 특정 문자(열) 변경\n",
    "print(a.replace('o', 'OtoI')) # 특정 문자(열) 변경"
   ]
  },
  {
   "cell_type": "code",
   "execution_count": 50,
   "metadata": {},
   "outputs": [
    {
     "name": "stdout",
     "output_type": "stream",
     "text": [
      "오늘 기온은 25.5도 이고, 비올 확률은 80% 입니다.\n"
     ]
    }
   ],
   "source": [
    "# 문자열 내의 특정한 값을 변수로 지정함\n",
    "temperature = 25.5\n",
    "prob = 80\n",
    "a = '오늘 기온은 {}도 이고, 비올 확률은 {}% 입니다.'.format(temperature, prob)\n",
    "print(a)"
   ]
  },
  {
   "cell_type": "code",
   "execution_count": 52,
   "metadata": {},
   "outputs": [
    {
     "data": {
      "text/plain": [
       "['hell', ' w', 'rld what a nice weather']"
      ]
     },
     "execution_count": 52,
     "metadata": {},
     "output_type": "execute_result"
    }
   ],
   "source": [
    "# 특정 문자로 문자열을 잘라 리스트로 리턴한다\n",
    "a = 'hello world what a nice weather'\n",
    "a.split('o') # 이런 식으로 원하는 토큰으로 자를 수 있다"
   ]
  },
  {
   "cell_type": "code",
   "execution_count": null,
   "metadata": {},
   "outputs": [],
   "source": []
  }
 ],
 "metadata": {
  "kernelspec": {
   "display_name": "Python 3",
   "language": "python",
   "name": "python3"
  },
  "language_info": {
   "codemirror_mode": {
    "name": "ipython",
    "version": 3
   },
   "file_extension": ".py",
   "mimetype": "text/x-python",
   "name": "python",
   "nbconvert_exporter": "python",
   "pygments_lexer": "ipython3",
   "version": "3.7.4"
  }
 },
 "nbformat": 4,
 "nbformat_minor": 2
}
