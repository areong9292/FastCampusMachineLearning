{
 "cells": [
  {
   "cell_type": "code",
   "execution_count": 9,
   "metadata": {},
   "outputs": [
    {
     "name": "stdout",
     "output_type": "stream",
     "text": [
      "현재 값은 :  0\n",
      "현재 값은 :  3\n",
      "현재 값은 :  0\n",
      "현재 값은 :  1\n"
     ]
    }
   ],
   "source": [
    "# 1. 숫자를 하나 증가\n",
    "# 2. 숫자를 0으로 초기화\n",
    "# 3. 현재 숫자를 출력\n",
    "class Counter:\n",
    "    def __init__(self):\n",
    "        self.num = 0\n",
    "    \n",
    "    # 1.\n",
    "    def increment(self):\n",
    "        self.num += 1\n",
    "    \n",
    "    # 2.\n",
    "    def reset(self):\n",
    "        self.num = 0\n",
    "    \n",
    "    # 3.\n",
    "    def print_current_value(self):\n",
    "        print('현재 값은 : ', self.num)\n",
    "        \n",
    "c1 = Counter()\n",
    "c1.print_current_value()\n",
    "c1.increment()\n",
    "c1.increment()\n",
    "c1.increment()\n",
    "c1.print_current_value()\n",
    "\n",
    "c1.reset()\n",
    "c1.print_current_value()\n",
    "\n",
    "c2 = Counter()\n",
    "c2.increment()\n",
    "c2.print_current_value()"
   ]
  },
  {
   "cell_type": "markdown",
   "metadata": {},
   "source": [
    "### method type\n",
    "- 위에서의 메소드는 instance method = 객체 참조로 호출, 해당 객체만 적용된다\n",
    "- static method라고 class로 호출한다"
   ]
  },
  {
   "cell_type": "code",
   "execution_count": 12,
   "metadata": {},
   "outputs": [
    {
     "data": {
      "text/plain": [
       "200"
      ]
     },
     "execution_count": 12,
     "metadata": {},
     "output_type": "execute_result"
    }
   ],
   "source": [
    "class Math:\n",
    "    def add(self, a, b):\n",
    "        return a + b\n",
    "    \n",
    "    def multiply(self, a, b):\n",
    "        return a * b\n",
    "    \n",
    "m = Math()\n",
    "m.add(10, 20)\n",
    "m.multiply(10, 20)\n",
    "\n",
    "# Math라는 클래스는 self가 필요없다\n",
    "# 내부에 속성 값을 사용하지 않음 = 인스턴스 레벨의 메소드 만들 필요없다"
   ]
  },
  {
   "cell_type": "code",
   "execution_count": 15,
   "metadata": {},
   "outputs": [
    {
     "data": {
      "text/plain": [
       "30"
      ]
     },
     "execution_count": 15,
     "metadata": {},
     "output_type": "execute_result"
    }
   ],
   "source": [
    "# staticmethod - 해당 함수는 static 함수로 설정한다\n",
    "# self가 없어야함\n",
    "class Math:\n",
    "    @staticmethod\n",
    "    def add(a, b):\n",
    "        return a + b\n",
    "    \n",
    "    @staticmethod\n",
    "    def multiply(a, b):\n",
    "        return a * b\n",
    "\n",
    "Math.add(10, 20)"
   ]
  }
 ],
 "metadata": {
  "kernelspec": {
   "display_name": "Python 3",
   "language": "python",
   "name": "python3"
  },
  "language_info": {
   "codemirror_mode": {
    "name": "ipython",
    "version": 3
   },
   "file_extension": ".py",
   "mimetype": "text/x-python",
   "name": "python",
   "nbconvert_exporter": "python",
   "pygments_lexer": "ipython3",
   "version": "3.7.4"
  }
 },
 "nbformat": 4,
 "nbformat_minor": 2
}
