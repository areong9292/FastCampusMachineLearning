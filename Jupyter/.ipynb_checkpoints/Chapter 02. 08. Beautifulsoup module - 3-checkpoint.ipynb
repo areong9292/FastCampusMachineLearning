{
 "cells": [
  {
   "cell_type": "markdown",
   "metadata": {},
   "source": [
    "### CSS를 이용하여 tag 찾기\n",
    "- select, select_one을 사용한다\n",
    "- select는 모든 것을 찾고 select_one은 제일 처음 찾은 내용을 갖는다"
   ]
  },
  {
   "cell_type": "code",
   "execution_count": 1,
   "metadata": {},
   "outputs": [],
   "source": [
    "import requests\n",
    "from bs4 import BeautifulSoup"
   ]
  },
  {
   "cell_type": "code",
   "execution_count": 4,
   "metadata": {},
   "outputs": [
    {
     "data": {
      "text/plain": [
       "[<h3 class=\"tit_view\" data-translation=\"\">일론머스크 \"테슬라에서 넷플릭스·유튜브 즐길 날 온다\"</h3>,\n",
       " <h3 class=\"txt_newsview\" data-reactid=\".b3mrl7t2s0.0\">많이본 뉴스</h3>,\n",
       " <h3 class=\"txt_newsview\">포토&amp;TV</h3>,\n",
       " <h3 class=\"txt_newsview\">실시간 이슈</h3>,\n",
       " <h3 class=\"txt_newsview\">이 시각 추천뉴스</h3>,\n",
       " <h3 class=\"txt_newsview\">실시간 주요이슈</h3>]"
      ]
     },
     "execution_count": 4,
     "metadata": {},
     "output_type": "execute_result"
    }
   ],
   "source": [
    "url = 'https://news.v.daum.net/v/20190728165812603'\n",
    "resp = requests.get(url)\n",
    "\n",
    "# beautifulsoup 모듈로 html 파일 가져온다\n",
    "soup = BeautifulSoup(resp.text)\n",
    "\n",
    "# 모든 h3을 찾는다\n",
    "soup.select('h3')"
   ]
  },
  {
   "cell_type": "code",
   "execution_count": 8,
   "metadata": {},
   "outputs": [
    {
     "data": {
      "text/plain": [
       "[<div class=\"article_view\" data-translation-body=\"\" id=\"harmonyContainer\">\n",
       " <section dmcf-sid=\"NkBWHdyrlY\">\n",
       " <figure class=\"figure_frm origin_fig\" dmcf-pid=\"N7s2biXYTL\" dmcf-ptype=\"figure\">\n",
       " <p class=\"link_figure\"><img alt=\"일론 머스크 테슬라 최고경영자(CEO) [이미지출처=로이터연합뉴스]\" class=\"thumb_g_article\" dmcf-mid=\"NBMY3ZZhN4\" dmcf-mtype=\"image\" height=\"366\" src=\"https://t1.daumcdn.net/news/201907/28/akn/20190728165813230vjsq.jpg\" width=\"550\"/></p>\n",
       " <figcaption class=\"txt_caption default_figure\">\n",
       "            일론 머스크 테슬라 최고경영자(CEO) [이미지출처=로이터연합뉴스]\n",
       "           </figcaption>\n",
       " </figure>\n",
       " <div dmcf-pid=\"NU9K9rfDgA\" dmcf-ptype=\"general\">\n",
       " <p>[아시아경제 이민우 기자] 일론 머스크 테슬라 최고경영자(CEO)가 자사 전기 자동차 모델에 넷플릭스와 유튜브 등 온라인동영상서비스(OTT)를 탑재할 것이라고 예고했다. 단순히 자율 주행 전기차가 단순히 주행을 위한 정보를 알려주는 것을 넘어 각종 영상 콘텐츠를 즐기는 공간으로도 확장하겠다는 전략으로 풀이된다.</p>\n",
       " <br/>\n",
       " <p>27일(현지시간) 더버지 등 주요 외신들에 따르면 머스크 CEO는 자신의 트위터를 통해 이 같은 계획을 밝혔다. 그는 \"자동차가 정차했을 때 넷플릭스와 유튜브를 감상할 수 있는 기능이 조만간 추가될 것\"이라며 \"편안한 좌석과 서라운드 사운드 오디오를 통해 영화관과 같은 느낌을 받을 수 있을 것\"이라고 강조했다.</p>\n",
       " </div>\n",
       " <figure class=\"figure_frm origin_fig\" dmcf-pid=\"NlqQhf4JmF\" dmcf-ptype=\"figure\">\n",
       " <p class=\"link_figure\"><img alt=\"(출처=일론 머스크 트위터 계정 캡쳐)\" class=\"thumb_g_article\" dmcf-mid=\"NRhnb5SRpx\" dmcf-mtype=\"image\" height=\"352\" src=\"https://t1.daumcdn.net/news/201907/28/akn/20190728165813670hwxf.png\" width=\"550\"/></p>\n",
       " <figcaption class=\"txt_caption default_figure\">\n",
       "            (출처=일론 머스크 트위터 계정 캡쳐)\n",
       "           </figcaption>\n",
       " </figure>\n",
       " <div dmcf-pid=\"NpkG4d9A6j\" dmcf-ptype=\"general\">\n",
       " <p>테슬라가 이처럼 콘텐츠 방면으로 확장하려 든 것은 이번이 처음이 아니다. 지난달 세계 최대 게임쇼 E3에서는 이미 운전자가 '폴아웃 쉘터'라는 게임을 할 수 있을 것이라고 발표한 바 있다. 이후에도 최근 게임업체 아타리사(社)의 자동차 경주 게임 ‘폴포지션’, 슈팅게임 ‘템페스트’, ‘미사일커맨드’ 등 고전 게임을 제공하기도 했다. 운전대로 게임을 조작하는 방식으로, 차가 주차돼 있을 경우에만 즐길 수 있다.</p>\n",
       " <br/>\n",
       " <p>이번 영상 콘텐츠는 주행 중에도 감상할 수 있도록 하는 방안을 고려하고 있다. 테슬라 측은 규제당국이 자율주행에 대해 완전히 승인하면 차량이 움직일 때에도 승객이 동영상을 즐길 수 있을 것이라고 설명했다.</p>\n",
       " <br/>\n",
       " <p>하지만 아직까지 자율주행차의 안전에 대한 우려는 완전히 걷혀지지 않은 상황이다. 지난 2017년 차량공유 서비스 우버의 자율주행 시범차량이 보행자와 충돌한 사고가 발생한 바 있다. 게다가 당시 시험 운전자는 디즈니의 동영상 스트리밍 서비스인 '훌루'를 이용하고 있던 것으로 밝혀졌다.</p>\n",
       " </div>\n",
       " <p dmcf-pid=\"NUOWg8Qxyd\" dmcf-ptype=\"general\">이민우 기자 letzwin@asiae.co.kr</p>\n",
       " </section>\n",
       " </div>]"
      ]
     },
     "execution_count": 8,
     "metadata": {},
     "output_type": "execute_result"
    }
   ],
   "source": [
    "# div 태크이면서 harmonyContainer라는 id를 가져온다\n",
    "soup.select('div#harmonyContainer')\n",
    "\n",
    "# id는 유일하기 때문에 div 안써도 됨"
   ]
  },
  {
   "cell_type": "markdown",
   "metadata": {},
   "source": [
    "### id 찾기\n",
    "- #id"
   ]
  },
  {
   "cell_type": "code",
   "execution_count": 12,
   "metadata": {},
   "outputs": [
    {
     "data": {
      "text/plain": [
       "[<p class=\"link_figure\"><img alt=\"일론 머스크 테슬라 최고경영자(CEO) [이미지출처=로이터연합뉴스]\" class=\"thumb_g_article\" dmcf-mid=\"NBMY3ZZhN4\" dmcf-mtype=\"image\" height=\"366\" src=\"https://t1.daumcdn.net/news/201907/28/akn/20190728165813230vjsq.jpg\" width=\"550\"/></p>,\n",
       " <p>[아시아경제 이민우 기자] 일론 머스크 테슬라 최고경영자(CEO)가 자사 전기 자동차 모델에 넷플릭스와 유튜브 등 온라인동영상서비스(OTT)를 탑재할 것이라고 예고했다. 단순히 자율 주행 전기차가 단순히 주행을 위한 정보를 알려주는 것을 넘어 각종 영상 콘텐츠를 즐기는 공간으로도 확장하겠다는 전략으로 풀이된다.</p>,\n",
       " <p>27일(현지시간) 더버지 등 주요 외신들에 따르면 머스크 CEO는 자신의 트위터를 통해 이 같은 계획을 밝혔다. 그는 \"자동차가 정차했을 때 넷플릭스와 유튜브를 감상할 수 있는 기능이 조만간 추가될 것\"이라며 \"편안한 좌석과 서라운드 사운드 오디오를 통해 영화관과 같은 느낌을 받을 수 있을 것\"이라고 강조했다.</p>,\n",
       " <p class=\"link_figure\"><img alt=\"(출처=일론 머스크 트위터 계정 캡쳐)\" class=\"thumb_g_article\" dmcf-mid=\"NRhnb5SRpx\" dmcf-mtype=\"image\" height=\"352\" src=\"https://t1.daumcdn.net/news/201907/28/akn/20190728165813670hwxf.png\" width=\"550\"/></p>,\n",
       " <p>테슬라가 이처럼 콘텐츠 방면으로 확장하려 든 것은 이번이 처음이 아니다. 지난달 세계 최대 게임쇼 E3에서는 이미 운전자가 '폴아웃 쉘터'라는 게임을 할 수 있을 것이라고 발표한 바 있다. 이후에도 최근 게임업체 아타리사(社)의 자동차 경주 게임 ‘폴포지션’, 슈팅게임 ‘템페스트’, ‘미사일커맨드’ 등 고전 게임을 제공하기도 했다. 운전대로 게임을 조작하는 방식으로, 차가 주차돼 있을 경우에만 즐길 수 있다.</p>,\n",
       " <p>이번 영상 콘텐츠는 주행 중에도 감상할 수 있도록 하는 방안을 고려하고 있다. 테슬라 측은 규제당국이 자율주행에 대해 완전히 승인하면 차량이 움직일 때에도 승객이 동영상을 즐길 수 있을 것이라고 설명했다.</p>,\n",
       " <p>하지만 아직까지 자율주행차의 안전에 대한 우려는 완전히 걷혀지지 않은 상황이다. 지난 2017년 차량공유 서비스 우버의 자율주행 시범차량이 보행자와 충돌한 사고가 발생한 바 있다. 게다가 당시 시험 운전자는 디즈니의 동영상 스트리밍 서비스인 '훌루'를 이용하고 있던 것으로 밝혀졌다.</p>,\n",
       " <p dmcf-pid=\"NUOWg8Qxyd\" dmcf-ptype=\"general\">이민우 기자 letzwin@asiae.co.kr</p>]"
      ]
     },
     "execution_count": 12,
     "metadata": {},
     "output_type": "execute_result"
    }
   ],
   "source": [
    "# 자손 태그 찾기\n",
    "# harmonyContainer라는 id를 가진 것을 찾고\n",
    "# 그 아래의 p태그를 가지는 애들 전부 찾는다\n",
    "soup.select('#harmonyContainer p')"
   ]
  },
  {
   "cell_type": "code",
   "execution_count": 13,
   "metadata": {},
   "outputs": [
    {
     "data": {
      "text/plain": [
       "[]"
      ]
     },
     "execution_count": 13,
     "metadata": {},
     "output_type": "execute_result"
    }
   ],
   "source": [
    "# 자식 태그 찾기\n",
    "# harmonyContainer라는 id를 가진 것을 찾고\n",
    "# 그 바로 한 단계 아래의 p태그를 가지는 애를 찾는다\n",
    "# 바로 아래는 p태그 가진 애가 없어서 비어있음\n",
    "soup.select('#harmonyContainer > p')"
   ]
  },
  {
   "cell_type": "markdown",
   "metadata": {},
   "source": [
    "### 클래스 찾기\n",
    "- .class"
   ]
  },
  {
   "cell_type": "code",
   "execution_count": 15,
   "metadata": {},
   "outputs": [
    {
     "data": {
      "text/plain": [
       "[<h3 class=\"tit_view\" data-translation=\"\">일론머스크 \"테슬라에서 넷플릭스·유튜브 즐길 날 온다\"</h3>]"
      ]
     },
     "execution_count": 15,
     "metadata": {},
     "output_type": "execute_result"
    }
   ],
   "source": [
    "# h3태그를 가진 애들 중 tit_view라는 클래스를 가진 애만 뽑는다\n",
    "soup.select('h3.tit_view')"
   ]
  },
  {
   "cell_type": "code",
   "execution_count": 16,
   "metadata": {},
   "outputs": [
    {
     "data": {
      "text/plain": [
       "[<h3 class=\"tit_view\" data-translation=\"\">일론머스크 \"테슬라에서 넷플릭스·유튜브 즐길 날 온다\"</h3>]"
      ]
     },
     "execution_count": 16,
     "metadata": {},
     "output_type": "execute_result"
    }
   ],
   "source": [
    "# 모든 애들 중 tit_view라는 클래스를 가진 애만 뽑는다\n",
    "soup.select('.tit_view')"
   ]
  },
  {
   "cell_type": "markdown",
   "metadata": {},
   "source": [
    "### 속성값 찾기\n",
    "- [name = 'test']"
   ]
  },
  {
   "cell_type": "code",
   "execution_count": 18,
   "metadata": {},
   "outputs": [
    {
     "data": {
      "text/plain": [
       "[<h3 class=\"tit_view\" data-translation=\"\">일론머스크 \"테슬라에서 넷플릭스·유튜브 즐길 날 온다\"</h3>]"
      ]
     },
     "execution_count": 18,
     "metadata": {},
     "output_type": "execute_result"
    }
   ],
   "source": [
    "# h3 태그에서 속성 값 중 class가 tit_view 인 것\n",
    "soup.select('h3[class = \"tit_view\"]')"
   ]
  },
  {
   "cell_type": "code",
   "execution_count": 19,
   "metadata": {},
   "outputs": [
    {
     "data": {
      "text/plain": [
       "[<h3 class=\"tit_view\" data-translation=\"\">일론머스크 \"테슬라에서 넷플릭스·유튜브 즐길 날 온다\"</h3>,\n",
       " <h3 class=\"txt_newsview\" data-reactid=\".b3mrl7t2s0.0\">많이본 뉴스</h3>,\n",
       " <h3 class=\"txt_newsview\">포토&amp;TV</h3>,\n",
       " <h3 class=\"txt_newsview\">실시간 이슈</h3>,\n",
       " <h3 class=\"txt_newsview\">이 시각 추천뉴스</h3>,\n",
       " <h3 class=\"txt_newsview\">실시간 주요이슈</h3>]"
      ]
     },
     "execution_count": 19,
     "metadata": {},
     "output_type": "execute_result"
    }
   ],
   "source": [
    "soup.select('h3')"
   ]
  },
  {
   "cell_type": "code",
   "execution_count": 21,
   "metadata": {},
   "outputs": [
    {
     "data": {
      "text/plain": [
       "[<h3 class=\"txt_newsview\" data-reactid=\".b3mrl7t2s0.0\">많이본 뉴스</h3>,\n",
       " <h3 class=\"txt_newsview\">포토&amp;TV</h3>,\n",
       " <h3 class=\"txt_newsview\">실시간 이슈</h3>,\n",
       " <h3 class=\"txt_newsview\">이 시각 추천뉴스</h3>,\n",
       " <h3 class=\"txt_newsview\">실시간 주요이슈</h3>]"
      ]
     },
     "execution_count": 21,
     "metadata": {},
     "output_type": "execute_result"
    }
   ],
   "source": [
    "# 속성 class의 값이 tx로 시작하는 애\n",
    "soup.select('h3[class ^= \"tx\"]')"
   ]
  },
  {
   "cell_type": "code",
   "execution_count": 24,
   "metadata": {},
   "outputs": [
    {
     "data": {
      "text/plain": [
       "[<h3 class=\"tit_view\" data-translation=\"\">일론머스크 \"테슬라에서 넷플릭스·유튜브 즐길 날 온다\"</h3>]"
      ]
     },
     "execution_count": 24,
     "metadata": {},
     "output_type": "execute_result"
    }
   ],
   "source": [
    "# 속성 class의 값이 _view로 끝나는 애\n",
    "soup.select('h3[class $= \"_view\"]')"
   ]
  },
  {
   "cell_type": "code",
   "execution_count": 25,
   "metadata": {
    "scrolled": true
   },
   "outputs": [
    {
     "data": {
      "text/plain": [
       "[<h3 class=\"tit_view\" data-translation=\"\">일론머스크 \"테슬라에서 넷플릭스·유튜브 즐길 날 온다\"</h3>,\n",
       " <h3 class=\"txt_newsview\" data-reactid=\".b3mrl7t2s0.0\">많이본 뉴스</h3>,\n",
       " <h3 class=\"txt_newsview\">포토&amp;TV</h3>,\n",
       " <h3 class=\"txt_newsview\">실시간 이슈</h3>,\n",
       " <h3 class=\"txt_newsview\">이 시각 추천뉴스</h3>,\n",
       " <h3 class=\"txt_newsview\">실시간 주요이슈</h3>]"
      ]
     },
     "execution_count": 25,
     "metadata": {},
     "output_type": "execute_result"
    }
   ],
   "source": [
    "# 속성 class의 값이 _를 포함하는 애\n",
    "soup.select('h3[class *= \"_\"]')"
   ]
  },
  {
   "cell_type": "code",
   "execution_count": 28,
   "metadata": {},
   "outputs": [
    {
     "data": {
      "text/plain": [
       "[<span class=\"txt_info\">이민우</span>,\n",
       " <span class=\"txt_info\">입력 2019.07.28. 16:58</span>]"
      ]
     },
     "execution_count": 28,
     "metadata": {},
     "output_type": "execute_result"
    }
   ],
   "source": [
    "soup.select('span.txt_info')"
   ]
  },
  {
   "cell_type": "code",
   "execution_count": 34,
   "metadata": {},
   "outputs": [
    {
     "data": {
      "text/plain": [
       "[<span class=\"txt_info\">이민우</span>]"
      ]
     },
     "execution_count": 34,
     "metadata": {},
     "output_type": "execute_result"
    }
   ],
   "source": [
    "# span 태그에 class명이 txt_info인 경우\n",
    "# 결과 값 중 첫번째 것\n",
    "soup.select('span.txt_info:nth-child(1)')"
   ]
  }
 ],
 "metadata": {
  "kernelspec": {
   "display_name": "Python 3",
   "language": "python",
   "name": "python3"
  },
  "language_info": {
   "codemirror_mode": {
    "name": "ipython",
    "version": 3
   },
   "file_extension": ".py",
   "mimetype": "text/x-python",
   "name": "python",
   "nbconvert_exporter": "python",
   "pygments_lexer": "ipython3",
   "version": "3.7.4"
  }
 },
 "nbformat": 4,
 "nbformat_minor": 2
}
