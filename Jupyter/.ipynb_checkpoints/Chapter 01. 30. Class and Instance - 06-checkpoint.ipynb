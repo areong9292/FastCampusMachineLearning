{
 "cells": [
  {
   "cell_type": "markdown",
   "metadata": {},
   "source": [
    "### 상속\n",
    "- 기존에 정의한 클래스의 기능을 그대로 사용할 수 있다\n",
    "- is - a 관계를 갖는다\n",
    "\n",
    "\n",
    "### Student is a Person\n",
    "### Employee is a Person"
   ]
  },
  {
   "cell_type": "code",
   "execution_count": 3,
   "metadata": {},
   "outputs": [
    {
     "name": "stdout",
     "output_type": "stream",
     "text": [
      "Bob은 BBQ를 먹습니다.\n",
      "Bob은 30분 동안 잡니다.\n",
      "Bob은 60분 동안 일합니다.\n"
     ]
    }
   ],
   "source": [
    "# 부모 클래스 생성\n",
    "class Person:\n",
    "    def __init__(self, name, age):\n",
    "        self.name = name\n",
    "        self.age = age\n",
    "\n",
    "    def eat(self, food):\n",
    "        print('{}은 {}를 먹습니다.'.format(self.name, food))\n",
    "    \n",
    "    def sleep(self, minute):\n",
    "        print('{}은 {}분 동안 잡니다.'.format(self.name, minute))\n",
    "    \n",
    "    def work(self, minute):\n",
    "        print('{}은 {}분 동안 일합니다.'.format(self.name, minute))\n",
    "\n",
    "# class 자식 클래스 명(부모 클래스 명):\n",
    "class Student(Person):\n",
    "    def __init__(self, name, age):\n",
    "        self.name = name\n",
    "        self.age = age\n",
    "\n",
    "class Employee(Person):\n",
    "    def __init__(self, name, age):\n",
    "        self.name = name\n",
    "        self.age = age\n",
    "\n",
    "# bob은 Student 객체이고 Student에는 아무런 메소드 정의도 없지만\n",
    "# 부모 클래스 Person의 것을 사용할 수 있다\n",
    "bob = Student('Bob', 25)\n",
    "bob.eat('BBQ')\n",
    "bob.sleep(30)\n",
    "bob.work(60)"
   ]
  },
  {
   "cell_type": "markdown",
   "metadata": {},
   "source": [
    "### method override\n",
    "- 부모 클래스에서 정의 된 메소드를 자식 클래스에서 재정의"
   ]
  },
  {
   "cell_type": "code",
   "execution_count": 7,
   "metadata": {},
   "outputs": [
    {
     "name": "stdout",
     "output_type": "stream",
     "text": [
      "Bob은 BBQ를 먹습니다.\n",
      "Bob은 30분 동안 잡니다.\n",
      "Bob은 60분 동안 공부합니다.\n",
      "noBob은 BBQ를 먹습니다.\n",
      "noBob은 30분 동안 잡니다.\n",
      "noBob은 60분 동안 업무를 합니다.\n"
     ]
    }
   ],
   "source": [
    "# 부모 클래스 생성\n",
    "class Person:\n",
    "    def __init__(self, name, age):\n",
    "        self.name = name\n",
    "        self.age = age\n",
    "\n",
    "    def eat(self, food):\n",
    "        print('{}은 {}를 먹습니다.'.format(self.name, food))\n",
    "    \n",
    "    def sleep(self, minute):\n",
    "        print('{}은 {}분 동안 잡니다.'.format(self.name, minute))\n",
    "    \n",
    "    def work(self, minute):\n",
    "        print('{}은 {}분 동안 일합니다.'.format(self.name, minute))\n",
    "\n",
    "# class 자식 클래스 명(부모 클래스 명):\n",
    "class Student(Person):\n",
    "    def __init__(self, name, age):\n",
    "        self.name = name\n",
    "        self.age = age\n",
    "\n",
    "    # 메소드 명, 인자 똑같이 하면 됨\n",
    "    def work(self, minute):\n",
    "        print('{}은 {}분 동안 공부합니다.'.format(self.name, minute))\n",
    "\n",
    "class Employee(Person):\n",
    "    def __init__(self, name, age):\n",
    "        self.name = name\n",
    "        self.age = age\n",
    "        \n",
    "    # 메소드 명, 인자 똑같이 하면 됨\n",
    "    def work(self, minute):\n",
    "        print('{}은 {}분 동안 업무를 합니다.'.format(self.name, minute))\n",
    "\n",
    "bob = Student('Bob', 25)\n",
    "bob.eat('BBQ')\n",
    "bob.sleep(30)\n",
    "bob.work(60)\n",
    "\n",
    "noBob = Employee('noBob', 25)\n",
    "noBob.eat('BBQ')\n",
    "noBob.sleep(30)\n",
    "noBob.work(60)"
   ]
  },
  {
   "cell_type": "markdown",
   "metadata": {},
   "source": [
    "### Super\n",
    "- override는 부모 클래스 기능을 덮어씌워서\n",
    "- 부모클래스 기능을 쓸 수 없다"
   ]
  },
  {
   "cell_type": "code",
   "execution_count": 9,
   "metadata": {},
   "outputs": [
    {
     "name": "stdout",
     "output_type": "stream",
     "text": [
      "Bob은 BBQ를 먹습니다.\n",
      "Bob은 30분 동안 잡니다.\n",
      "Bob은 60분 동안 준비를 합니다.\n",
      "Bob은 60분 동안 공부합니다.\n",
      "\n",
      "noBob은 BBQ를 먹습니다.\n",
      "noBob은 30분 동안 잡니다.\n",
      "noBob은 60분 동안 준비를 합니다.\n",
      "noBob은 60분 동안 업무를 합니다.\n"
     ]
    }
   ],
   "source": [
    "# 부모 클래스 생성\n",
    "class Person:\n",
    "    def __init__(self, name, age):\n",
    "        self.name = name\n",
    "        self.age = age\n",
    "\n",
    "    def eat(self, food):\n",
    "        print('{}은 {}를 먹습니다.'.format(self.name, food))\n",
    "    \n",
    "    def sleep(self, minute):\n",
    "        print('{}은 {}분 동안 잡니다.'.format(self.name, minute))\n",
    "    \n",
    "    def work(self, minute):\n",
    "        print('{}은 {}분 동안 준비를 합니다.'.format(self.name, minute))\n",
    "\n",
    "# class 자식 클래스 명(부모 클래스 명):\n",
    "class Student(Person):\n",
    "    def __init__(self, name, age):\n",
    "        self.name = name\n",
    "        self.age = age\n",
    "\n",
    "    # 메소드 명, 인자 똑같이 하면 됨\n",
    "    def work(self, minute):\n",
    "        # 부모 클래스 호출\n",
    "        super().work(minute)\n",
    "        \n",
    "        print('{}은 {}분 동안 공부합니다.'.format(self.name, minute))\n",
    "\n",
    "class Employee(Person):\n",
    "    def __init__(self, name, age):\n",
    "        self.name = name\n",
    "        self.age = age\n",
    "        \n",
    "    # 메소드 명, 인자 똑같이 하면 됨\n",
    "    def work(self, minute):\n",
    "        # 부모 클래스 호출\n",
    "        super().work(minute)\n",
    "        \n",
    "        print('{}은 {}분 동안 업무를 합니다.'.format(self.name, minute))\n",
    "\n",
    "bob = Student('Bob', 25)\n",
    "bob.eat('BBQ')\n",
    "bob.sleep(30)\n",
    "bob.work(60)\n",
    "\n",
    "print()\n",
    "\n",
    "noBob = Employee('noBob', 25)\n",
    "noBob.eat('BBQ')\n",
    "noBob.sleep(30)\n",
    "noBob.work(60)"
   ]
  }
 ],
 "metadata": {
  "kernelspec": {
   "display_name": "Python 3",
   "language": "python",
   "name": "python3"
  },
  "language_info": {
   "codemirror_mode": {
    "name": "ipython",
    "version": 3
   },
   "file_extension": ".py",
   "mimetype": "text/x-python",
   "name": "python",
   "nbconvert_exporter": "python",
   "pygments_lexer": "ipython3",
   "version": "3.7.4"
  }
 },
 "nbformat": 4,
 "nbformat_minor": 2
}
