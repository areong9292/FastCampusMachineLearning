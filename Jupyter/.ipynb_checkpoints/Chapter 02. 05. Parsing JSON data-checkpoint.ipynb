{
 "cells": [
  {
   "cell_type": "code",
   "execution_count": 7,
   "metadata": {},
   "outputs": [],
   "source": [
    "import requests"
   ]
  },
  {
   "cell_type": "markdown",
   "metadata": {},
   "source": [
    "### 공공데이터 포털 OPEN API 사용하기\n",
    "1. 공공데이터 포털 회원가입 / 로그인(https://www.data.go.kr/)\n",
    "2. API 사용 요청 / 키 발금\n",
    "3. API 문서(specification) 확인\n",
    "4. API 테스트 및 개발"
   ]
  },
  {
   "cell_type": "code",
   "execution_count": 1,
   "metadata": {},
   "outputs": [],
   "source": [
    "# API의 인증키\n",
    "serviceKey = 'RDn5DtrHvdSrtcVZ88OSh0D3jDRZGxmIAQgDh7DW5DuiyRmW08z1uVKJtgfI%2F9%2BD%2FM67rL4n7%2FihSyRsl8JX1A%3D%3D'"
   ]
  },
  {
   "cell_type": "code",
   "execution_count": 5,
   "metadata": {},
   "outputs": [
    {
     "name": "stdout",
     "output_type": "stream",
     "text": [
      "http://api.visitkorea.or.kr/openapi/service/rest/EngService/areaCode?serviceKey=RDn5DtrHvdSrtcVZ88OSh0D3jDRZGxmIAQgDh7DW5DuiyRmW08z1uVKJtgfI%2F9%2BD%2FM67rL4n7%2FihSyRsl8JX1A%3D%3D&numOfRows=10&pageSize=10&pageNo=1&MobileOS=ETC&MobileApp=AppTest&_type=json\n"
     ]
    }
   ],
   "source": [
    "endpoint = 'http://api.visitkorea.or.kr/openapi/service/rest/EngService/areaCode?serviceKey={}&numOfRows=10&pageSize=10&pageNo=1&MobileOS=ETC&MobileApp=AppTest&_type=json'.format(serviceKey)\n",
    "\n",
    "# XML 형태로 값을 가져온다\n",
    "print(endpoint)"
   ]
  },
  {
   "cell_type": "code",
   "execution_count": 12,
   "metadata": {},
   "outputs": [
    {
     "name": "stdout",
     "output_type": "stream",
     "text": [
      "200\n",
      "{\"response\":{\"header\":{\"resultCode\":\"0000\",\"resultMsg\":\"OK\"},\"body\":{\"items\":{\"item\":[{\"code\":1,\"name\":\"Seoul\",\"rnum\":1},{\"code\":2,\"name\":\"Incheon\",\"rnum\":2},{\"code\":3,\"name\":\"Daejeon\",\"rnum\":3},{\"code\":4,\"name\":\"Daegu\",\"rnum\":4},{\"code\":5,\"name\":\"Gwangju\",\"rnum\":5},{\"code\":6,\"name\":\"Busan\",\"rnum\":6},{\"code\":7,\"name\":\"Ulsan\",\"rnum\":7},{\"code\":8,\"name\":\"Sejong\",\"rnum\":8},{\"code\":31,\"name\":\"Gyeonggi-do\",\"rnum\":9},{\"code\":32,\"name\":\"Gangwon-do\",\"rnum\":10}]},\"numOfRows\":10,\"pageNo\":1,\"totalCount\":17}}}\n",
      "\n",
      "{'code': 1, 'name': 'Seoul', 'rnum': 1}\n"
     ]
    }
   ],
   "source": [
    "endpoint = 'http://api.visitkorea.or.kr/openapi/service/rest/EngService/areaCode?serviceKey={}&numOfRows=10&pageSize=10&pageNo={}&MobileOS=ETC&MobileApp=AppTest&_type=json'.format(serviceKey, 1)\n",
    "resp = requests.get(endpoint)\n",
    "\n",
    "# 잘 받아왔는지 체크, 데이터 확인\n",
    "print(resp.status_code)\n",
    "print(resp.text)\n",
    "print()\n",
    "# requests의 get으로 가져온 값이 json형태일 경우\n",
    "# json()으로 값을 뽑아낼 수 있다\n",
    "# dict 타입\n",
    "data = resp.json()\n",
    "\n",
    "# 이런 식으로 타고 들어가서 서울의 데이터만 가져올 수 있다\n",
    "print(data['response']['body']['items']['item'][0])"
   ]
  }
 ],
 "metadata": {
  "kernelspec": {
   "display_name": "Python 3",
   "language": "python",
   "name": "python3"
  },
  "language_info": {
   "codemirror_mode": {
    "name": "ipython",
    "version": 3
   },
   "file_extension": ".py",
   "mimetype": "text/x-python",
   "name": "python",
   "nbconvert_exporter": "python",
   "pygments_lexer": "ipython3",
   "version": "3.7.4"
  }
 },
 "nbformat": 4,
 "nbformat_minor": 2
}
