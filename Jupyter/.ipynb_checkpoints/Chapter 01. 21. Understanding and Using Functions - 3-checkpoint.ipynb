{
 "cells": [
  {
   "cell_type": "markdown",
   "metadata": {},
   "source": [
    "## 변수의 범위\n",
    "- 변수가 참조 가능한 코드 상의 범위"
   ]
  },
  {
   "cell_type": "code",
   "execution_count": 5,
   "metadata": {},
   "outputs": [
    {
     "name": "stdout",
     "output_type": "stream",
     "text": [
      "30 40\n",
      "10 30\n"
     ]
    }
   ],
   "source": [
    "num1 = 10\n",
    "num2 = 30\n",
    "\n",
    "# 함수 안의 값과 위의 변수는 서로 별개의 것\n",
    "# 함수 호출 시 num1, num2가 별개의 것으로 생성되고,\n",
    "# 이 num1, num2는 함수가 끝나면 사라진다\n",
    "def test(num1, num2):\n",
    "    print(num1, num2)\n",
    "    return num1 + num2\n",
    "\n",
    "test(30, 40)\n",
    "print(num1, num2)"
   ]
  },
  {
   "cell_type": "markdown",
   "metadata": {},
   "source": [
    "## 가변길이 인자\n",
    "- 전달되는 인자의 개수가 고정적이지 않은 경우 사용"
   ]
  },
  {
   "cell_type": "code",
   "execution_count": 7,
   "metadata": {},
   "outputs": [
    {
     "name": "stdout",
     "output_type": "stream",
     "text": [
      "\n",
      "1\n",
      "1 2\n"
     ]
    }
   ],
   "source": [
    "print()\n",
    "print(1)\n",
    "print(1, 2)\n",
    "# print(1, 2, 3, ...)"
   ]
  },
  {
   "cell_type": "code",
   "execution_count": 14,
   "metadata": {},
   "outputs": [
    {
     "name": "stdout",
     "output_type": "stream",
     "text": [
      "1\n",
      "2\n",
      "3\n",
      "4\n",
      "5\n",
      "6\n",
      "<class 'tuple'>\n"
     ]
    }
   ],
   "source": [
    "# 파라미터 앞에 * 붙히면 가변길이 파라미터가 됨\n",
    "# 튜플이 된다\n",
    "# 파이썬 관례로 가변길이 인자일 시 그 인자의 이름을 args라 한다\n",
    "def test(*args): # arguments\n",
    "    for item in args:\n",
    "        print(item)\n",
    "        \n",
    "    print(type(args))\n",
    "\n",
    "test(1, 2, 3, 4, 5, 6)"
   ]
  },
  {
   "cell_type": "code",
   "execution_count": 21,
   "metadata": {},
   "outputs": [
    {
     "name": "stdout",
     "output_type": "stream",
     "text": [
      "key :  a , value :  1\n",
      "key :  b , value :  2\n",
      "key :  c , value :  3\n",
      "key :  d , value :  4\n",
      "key :  name , value :  Bob\n",
      "<class 'dict'>\n"
     ]
    }
   ],
   "source": [
    "# * 두 개면 dict로 인식한다\n",
    "# 관례로 kwargs\n",
    "def test2(**kwargs): # key word arguments\n",
    "    for key, value in kwargs.items():\n",
    "        print('key : ', key, ', value : ', value)\n",
    "    \n",
    "    print(type(kwargs))\n",
    "    \n",
    "test2(a = 1, b = 2, c = 3, d = 4, name = 'Bob')"
   ]
  },
  {
   "cell_type": "code",
   "execution_count": 26,
   "metadata": {},
   "outputs": [
    {
     "name": "stdout",
     "output_type": "stream",
     "text": [
      "오늘 온도 : 40도, 강수확률은 : 40%, 내일온도 : 23도\n"
     ]
    }
   ],
   "source": [
    "# [] - 추후 값을 넣겠다는 뜻\n",
    "# 안에 이름을 넣은 다음 .format으로 값을 넣을 수 있다\n",
    "# 가변길이 인자로 사용가능\n",
    "a = '오늘 온도 : {today_temp}도, 강수확률은 : {today_prob}%, 내일온도 : {tomorrow_temp}도'.format(tomorrow_temp = 23, today_prob = 40, today_temp = 40)\n",
    "print(a)"
   ]
  }
 ],
 "metadata": {
  "kernelspec": {
   "display_name": "Python 3",
   "language": "python",
   "name": "python3"
  },
  "language_info": {
   "codemirror_mode": {
    "name": "ipython",
    "version": 3
   },
   "file_extension": ".py",
   "mimetype": "text/x-python",
   "name": "python",
   "nbconvert_exporter": "python",
   "pygments_lexer": "ipython3",
   "version": "3.7.4"
  }
 },
 "nbformat": 4,
 "nbformat_minor": 2
}
