{
 "cells": [
  {
   "cell_type": "markdown",
   "metadata": {},
   "source": [
    "### 정규 표현식\n",
    "- 특정한 패턴을 찾는 기능"
   ]
  },
  {
   "cell_type": "code",
   "execution_count": 2,
   "metadata": {},
   "outputs": [
    {
     "name": "stdout",
     "output_type": "stream",
     "text": [
      "abcdef\n",
      "\n",
      "abcdef\\n\n"
     ]
    }
   ],
   "source": [
    "a = 'abcdef\\n'\n",
    "print(a)\n",
    "\n",
    "# 문자열 앞에 r이 붙으면 해당 문자열이 구성된 그대로 문자열로 변환\n",
    "b = r'abcdef\\n'\n",
    "print(b)"
   ]
  },
  {
   "cell_type": "markdown",
   "metadata": {},
   "source": [
    "### 기본 패턴\n",
    "- a, X, 9 등등 문자 하나하나는 정확히 해당 문자와 일치\n",
    "    - 패턴 test는 test 문자열과 일치\n",
    "\n",
    "- .(마침표) - 어떤 한개의 문자와 일치\n",
    "- \\w - 문자와 일치 [a-zA-Z0-9_]\n",
    "- \\s - 공백 문자\n",
    "- \\t, \\n, \\r - tab, newline, return\n",
    "- \\d - 숫자 [0-9]\n",
    "- ^ 시작, $ 끝 각각 문자열의 시작과 끝을 의미"
   ]
  },
  {
   "cell_type": "markdown",
   "metadata": {},
   "source": [
    "### search method\n",
    "- 첫번째 패턴을 찾으면 match 객체를 반환\n",
    "- 패턴을 찾지 못하면 None 반환"
   ]
  },
  {
   "cell_type": "code",
   "execution_count": 10,
   "metadata": {},
   "outputs": [
    {
     "name": "stdout",
     "output_type": "stream",
     "text": [
      "0\n",
      "3\n",
      "abc\n"
     ]
    }
   ],
   "source": [
    "# 정규 표현식 모듈\n",
    "import re\n",
    "\n",
    "# 찾고자 하는 패턴, 찾으려 하는 곳 문자열\n",
    "m = re.search(r'abc', 'abcdef')\n",
    "\n",
    "# 패턴 검색 된 위치 시작 위치\n",
    "print(m.start())\n",
    "\n",
    "# 패턴 검색 된 위치 끝 + 1 위치\n",
    "print(m.end())\n",
    "\n",
    "# 패턴 자체\n",
    "print(m.group())"
   ]
  },
  {
   "cell_type": "code",
   "execution_count": 14,
   "metadata": {},
   "outputs": [
    {
     "data": {
      "text/plain": [
       "<re.Match object; span=(0, 2), match='11'>"
      ]
     },
     "execution_count": 14,
     "metadata": {},
     "output_type": "execute_result"
    }
   ],
   "source": [
    "# \\d\\d - 숫자 두 개가 나란히 있는 게 있냐?\n",
    "m = re.search(r'\\d\\d', '112abcdef119')\n",
    "\n",
    "## 11 이 제일 먼저 있으므로 11 을 찾는다\n",
    "m"
   ]
  },
  {
   "cell_type": "code",
   "execution_count": 20,
   "metadata": {},
   "outputs": [
    {
     "data": {
      "text/plain": [
       "<re.Match object; span=(2, 6), match='$%AB'>"
      ]
     },
     "execution_count": 20,
     "metadata": {},
     "output_type": "execute_result"
    }
   ],
   "source": [
    "# 어떤 문자든지 두 개 와도 되고 그뒤 두개는 문자 두 개 연달아\n",
    "m = re.search(r'..\\w\\w', '@#$%ABCDabcd')\n",
    "m"
   ]
  },
  {
   "cell_type": "markdown",
   "metadata": {},
   "source": [
    "## metacharacters - 메타 캐릭터"
   ]
  },
  {
   "cell_type": "markdown",
   "metadata": {},
   "source": [
    "### [] - 문자들의 범위를 나타내기 위해 사용\n",
    "- [] 내부의 메타 캐릭터는 캐릭터 자체를 나타냄\n",
    "    - [abck] - a, b, c, d 중 한개\n",
    "    - [abc.^] - a, b, c, d, . ^ 중 한 개\n",
    "    \n",
    "    \n",
    "- -와 함께 사용되면 해당 문자 사이의 범위에 속하는 문자 중 하나\n",
    "    - [a-d] - a ~ d 문자 중 하나\n",
    "    - [0-9] - 0 ~ 9 중 하나\n",
    "    - [a-zA-Z0-9] - 모든 알파벳 문자 및 숫자\n",
    "\n",
    "\n",
    "- ^가 맨 앞에 사용되는 경우 해당 문자 패턴이 아닌 것과 매칭 = NOT\n",
    "    - [^0-9] - 숫자가 아닌 것"
   ]
  },
  {
   "cell_type": "code",
   "execution_count": 22,
   "metadata": {},
   "outputs": [
    {
     "data": {
      "text/plain": [
       "<re.Match object; span=(0, 3), match='cat'>"
      ]
     },
     "execution_count": 22,
     "metadata": {},
     "output_type": "execute_result"
    }
   ],
   "source": [
    "# c가 선택되어 cat 검색\n",
    "re.search(r'[cbm]at', 'cat')"
   ]
  },
  {
   "cell_type": "code",
   "execution_count": 24,
   "metadata": {},
   "outputs": [
    {
     "data": {
      "text/plain": [
       "<re.Match object; span=(0, 5), match='1haha'>"
      ]
     },
     "execution_count": 24,
     "metadata": {},
     "output_type": "execute_result"
    }
   ],
   "source": [
    "# 숫자하나 + haha\n",
    "re.search(r'[0-9]haha','1haha')"
   ]
  },
  {
   "cell_type": "code",
   "execution_count": 27,
   "metadata": {},
   "outputs": [
    {
     "data": {
      "text/plain": [
       "<re.Match object; span=(0, 5), match='^aron'>"
      ]
     },
     "execution_count": 27,
     "metadata": {},
     "output_type": "execute_result"
    }
   ],
   "source": [
    "re.search(r'[abc.^]aron','^aron')"
   ]
  },
  {
   "cell_type": "code",
   "execution_count": 29,
   "metadata": {},
   "outputs": [],
   "source": [
    "# abc가 앞에 오면 안됨\n",
    "re.search(r'[^abc]aron','aaron')"
   ]
  }
 ],
 "metadata": {
  "kernelspec": {
   "display_name": "Python 3",
   "language": "python",
   "name": "python3"
  },
  "language_info": {
   "codemirror_mode": {
    "name": "ipython",
    "version": 3
   },
   "file_extension": ".py",
   "mimetype": "text/x-python",
   "name": "python",
   "nbconvert_exporter": "python",
   "pygments_lexer": "ipython3",
   "version": "3.7.4"
  }
 },
 "nbformat": 4,
 "nbformat_minor": 2
}
