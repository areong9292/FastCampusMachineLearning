{
 "cells": [
  {
   "cell_type": "markdown",
   "metadata": {},
   "source": [
    "while 뒤의 조건이 True일 경우, while 코드 블록을 실행"
   ]
  },
  {
   "cell_type": "code",
   "execution_count": 7,
   "metadata": {},
   "outputs": [
    {
     "name": "stdout",
     "output_type": "stream",
     "text": [
      "value :  1 , index :   0\n",
      "value :  10 , index :   1\n",
      "value :  9 , index :   2\n",
      "value :  24 , index :   3\n",
      "hahaha\n"
     ]
    }
   ],
   "source": [
    "# while로 리스트 아이템 출력\n",
    "a = [1, 10, 9, 24]\n",
    "\n",
    "i = 0\n",
    "# i가 리스트 a의 길이보다 적을 경우 반복한다\n",
    "while i < len(a):\n",
    "    print('value : ', a[i], ', index :  ', i)\n",
    "    i += 1\n",
    "\n",
    "print('hahaha')"
   ]
  },
  {
   "cell_type": "markdown",
   "metadata": {},
   "source": [
    "### 조건문과 함께 사용하기"
   ]
  },
  {
   "cell_type": "code",
   "execution_count": 12,
   "metadata": {},
   "outputs": [
    {
     "name": "stdout",
     "output_type": "stream",
     "text": [
      "24\n",
      "25\n",
      "26\n"
     ]
    }
   ],
   "source": [
    "# while로 리스트 아이템 출력\n",
    "a = [1, 10, 9, 24, 25, 26]\n",
    "\n",
    "i = 0\n",
    "# i가 리스트 a의 길이보다 적을 경우 반복한다\n",
    "while i < len(a):\n",
    "    if a[i] > 20: # 20보다 큰 경우만 출력하기\n",
    "        print(a[i])\n",
    "        \n",
    "    i += 1"
   ]
  },
  {
   "cell_type": "code",
   "execution_count": 14,
   "metadata": {},
   "outputs": [
    {
     "name": "stdout",
     "output_type": "stream",
     "text": [
      "1\n",
      "5.0\n",
      "9\n",
      "12.0\n",
      "25\n",
      "13.0\n"
     ]
    }
   ],
   "source": [
    "# while로 리스트 아이템 출력\n",
    "a = [1, 10, 9, 24, 25, 26]\n",
    "\n",
    "i = 0\n",
    "# i가 리스트 a의 길이보다 적을 경우 반복한다\n",
    "while i < len(a):\n",
    "    if a[i] % 2 == 1: # 홀수인 경우만 출력하기 = if a[i] % 2: 도 된다\n",
    "        print(a[i])\n",
    "    else:\n",
    "        print(a[i] / 2)\n",
    "    i += 1"
   ]
  },
  {
   "cell_type": "code",
   "execution_count": null,
   "metadata": {},
   "outputs": [],
   "source": []
  }
 ],
 "metadata": {
  "kernelspec": {
   "display_name": "Python 3",
   "language": "python",
   "name": "python3"
  },
  "language_info": {
   "codemirror_mode": {
    "name": "ipython",
    "version": 3
   },
   "file_extension": ".py",
   "mimetype": "text/x-python",
   "name": "python",
   "nbconvert_exporter": "python",
   "pygments_lexer": "ipython3",
   "version": "3.7.4"
  }
 },
 "nbformat": 4,
 "nbformat_minor": 2
}
