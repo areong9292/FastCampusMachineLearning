{
 "cells": [
  {
   "cell_type": "markdown",
   "metadata": {},
   "source": [
    "### dictionary\n",
    "- 키와 값을 갖는 데이터 구조\n",
    "- 키는 내부적으로 hash값으로 저장\n",
    "- 순서가 없다 = 인덱스가 없다"
   ]
  },
  {
   "cell_type": "code",
   "execution_count": 5,
   "metadata": {},
   "outputs": [
    {
     "name": "stdout",
     "output_type": "stream",
     "text": [
      "<class 'dict'>\n"
     ]
    }
   ],
   "source": [
    "# 빈 dict 초기화\n",
    "a = {}\n",
    "print(type(a))"
   ]
  },
  {
   "cell_type": "code",
   "execution_count": 8,
   "metadata": {},
   "outputs": [
    {
     "name": "stdout",
     "output_type": "stream",
     "text": [
      "{'Korea': 'Seoul', 'Canada': 'Ottawa', 'USA': 'Washington D.C'}\n",
      "Seoul\n"
     ]
    }
   ],
   "source": [
    "# key : value 지정\n",
    "a = {'Korea' : 'Seoul',\n",
    "     'Canada' : 'Ottawa',\n",
    "    'USA' : 'Washington D.C'}\n",
    "\n",
    "print(a)\n",
    "\n",
    "# key에 해당하는 value 가져옴\n",
    "print(a['Korea'])"
   ]
  },
  {
   "cell_type": "code",
   "execution_count": 10,
   "metadata": {},
   "outputs": [
    {
     "name": "stdout",
     "output_type": "stream",
     "text": [
      "1\n"
     ]
    }
   ],
   "source": [
    "# 숫자도 된다\n",
    "# 밑의 b[0]의 0이 인덱스가 아니라 key다\n",
    "b = {0:1, 1:6, 7:9, 8:10}\n",
    "print(b[0])"
   ]
  },
  {
   "cell_type": "code",
   "execution_count": 12,
   "metadata": {},
   "outputs": [
    {
     "name": "stdout",
     "output_type": "stream",
     "text": [
      "{'Korea': 'Seoul', 'Canada': 'Ottawa', 'USA': 'Washington D.C', 'Japan': 'Tokyo'}\n"
     ]
    }
   ],
   "source": [
    "a = {'Korea' : 'Seoul',\n",
    "     'Canada' : 'Ottawa',\n",
    "    'USA' : 'Washington D.C'}\n",
    "\n",
    "# 이런 식으로 바로 추가 할 수 있다\n",
    "a['Japan'] = 'Tokyo'\n",
    "\n",
    "print(a)"
   ]
  },
  {
   "cell_type": "markdown",
   "metadata": {},
   "source": [
    "## dict는 동일한 키 값을 가질 수 없다"
   ]
  },
  {
   "cell_type": "code",
   "execution_count": 17,
   "metadata": {},
   "outputs": [
    {
     "name": "stdout",
     "output_type": "stream",
     "text": [
      "{'Korea': 'Seoul', 'Canada': 'Ottawa', 'USA': 'Washington D.C', 'Japan': 'tt'}\n"
     ]
    }
   ],
   "source": [
    "# 같은 키 값을 사용하면 기존에 있던 갚을 덮어 씌운다\n",
    "a['Japan'] = \"tt\"\n",
    "print(a)"
   ]
  },
  {
   "cell_type": "code",
   "execution_count": 19,
   "metadata": {},
   "outputs": [
    {
     "name": "stdout",
     "output_type": "stream",
     "text": [
      "{'a': 2, 'b': 2, 'c': 3, 'd': 4, 'e': 5}\n"
     ]
    }
   ],
   "source": [
    "a = {'a':1, 'b':2, 'c':3}\n",
    "b = {'a':2, 'd':4, 'e':5}\n",
    "\n",
    "# 중복 아닌 건 그대로이고\n",
    "# 중복은 뒤의 것인 b의 값으로 덮어씌워진다\n",
    "a.update(b)\n",
    "\n",
    "print(a)"
   ]
  },
  {
   "cell_type": "code",
   "execution_count": 31,
   "metadata": {},
   "outputs": [
    {
     "name": "stdout",
     "output_type": "stream",
     "text": [
      "{'a': 1, 'b': 2, 'c': 3}\n",
      "{'a': 1, 'c': 3}\n",
      "{'a': 1}\n"
     ]
    }
   ],
   "source": [
    "a = {'a':1, 'b':2, 'c':3}\n",
    "print(a)\n",
    "\n",
    "# 특정 키 값으로 데이터 삭제\n",
    "a.pop('b')\n",
    "print(a)\n",
    "\n",
    "# 특정 키 값으로 데이터 삭제\n",
    "del a['c']\n",
    "print(a)\n"
   ]
  },
  {
   "cell_type": "code",
   "execution_count": 27,
   "metadata": {},
   "outputs": [
    {
     "name": "stdout",
     "output_type": "stream",
     "text": [
      "100\n"
     ]
    },
    {
     "ename": "NameError",
     "evalue": "name 'c' is not defined",
     "output_type": "error",
     "traceback": [
      "\u001b[1;31m---------------------------------------------------------------------------\u001b[0m",
      "\u001b[1;31mNameError\u001b[0m                                 Traceback (most recent call last)",
      "\u001b[1;32m<ipython-input-27-eb7b94f39b8e>\u001b[0m in \u001b[0;36m<module>\u001b[1;34m\u001b[0m\n\u001b[0;32m      4\u001b[0m \u001b[1;31m# del - 데이터 상의 정의된 변수 값을 삭제해버리는 것\u001b[0m\u001b[1;33m\u001b[0m\u001b[1;33m\u001b[0m\u001b[1;33m\u001b[0m\u001b[0m\n\u001b[0;32m      5\u001b[0m \u001b[1;32mdel\u001b[0m \u001b[0mc\u001b[0m\u001b[1;33m\u001b[0m\u001b[1;33m\u001b[0m\u001b[0m\n\u001b[1;32m----> 6\u001b[1;33m \u001b[0mprint\u001b[0m\u001b[1;33m(\u001b[0m\u001b[0mc\u001b[0m\u001b[1;33m)\u001b[0m\u001b[1;33m\u001b[0m\u001b[1;33m\u001b[0m\u001b[0m\n\u001b[0m",
      "\u001b[1;31mNameError\u001b[0m: name 'c' is not defined"
     ]
    }
   ],
   "source": [
    "c = 100\n",
    "print(c)\n",
    "\n",
    "# del - 데이터 상의 정의된 변수 값을 삭제해버리는 것\n",
    "del c\n",
    "print(c)"
   ]
  },
  {
   "cell_type": "code",
   "execution_count": 32,
   "metadata": {},
   "outputs": [
    {
     "name": "stdout",
     "output_type": "stream",
     "text": [
      "{'a': 1}\n",
      "{}\n"
     ]
    }
   ],
   "source": [
    "# dict 초기화\n",
    "print(a)\n",
    "a.clear()\n",
    "print(a)"
   ]
  },
  {
   "cell_type": "code",
   "execution_count": 37,
   "metadata": {},
   "outputs": [
    {
     "name": "stdout",
     "output_type": "stream",
     "text": [
      "{'a': 1, 'b': 2, 'c': 3}\n",
      "True\n",
      "False\n"
     ]
    }
   ],
   "source": [
    "a = {'a':1, 'b':2, 'c':3}\n",
    "print(a)\n",
    "\n",
    "# 'b'라는 키가 a 안에 있는지 여부 체크\n",
    "print('b' in a)\n",
    "print('d' in a)\n",
    "\n",
    "# dict에서 in은 성능 상의 차이가 엄청나다\n",
    "# hash값으로 된 키값을 바로 검사할 수 있기 때문"
   ]
  },
  {
   "cell_type": "code",
   "execution_count": 38,
   "metadata": {},
   "outputs": [
    {
     "name": "stdout",
     "output_type": "stream",
     "text": [
      "{'a': 1, 'b': 2, 'c': 3}\n",
      "True\n",
      "True\n"
     ]
    }
   ],
   "source": [
    "a = {'a':1, 'b':2, 'c':3}\n",
    "print(a)\n",
    "b = [1,2,3,4,5,6,7,8,9,10,100]\n",
    "\n",
    "# 리스트 b에서 검색은 리스트 하나씩 다 돌아서 찾는다\n",
    "print(100 in b)\n",
    "\n",
    "# dict a에서 검색은 바로 결과 가져옴\n",
    "print('b' in a)"
   ]
  },
  {
   "cell_type": "code",
   "execution_count": 46,
   "metadata": {},
   "outputs": [
    {
     "name": "stdout",
     "output_type": "stream",
     "text": [
      "None\n"
     ]
    },
    {
     "ename": "KeyError",
     "evalue": "'d'",
     "output_type": "error",
     "traceback": [
      "\u001b[1;31m---------------------------------------------------------------------------\u001b[0m",
      "\u001b[1;31mKeyError\u001b[0m                                  Traceback (most recent call last)",
      "\u001b[1;32m<ipython-input-46-b2aa5c6de96e>\u001b[0m in \u001b[0;36m<module>\u001b[1;34m\u001b[0m\n\u001b[0;32m      3\u001b[0m \u001b[1;33m\u001b[0m\u001b[0m\n\u001b[0;32m      4\u001b[0m \u001b[1;31m# 바로 접근은 죽는다\u001b[0m\u001b[1;33m\u001b[0m\u001b[1;33m\u001b[0m\u001b[1;33m\u001b[0m\u001b[0m\n\u001b[1;32m----> 5\u001b[1;33m \u001b[0ma\u001b[0m\u001b[1;33m[\u001b[0m\u001b[1;34m'd'\u001b[0m\u001b[1;33m]\u001b[0m\u001b[1;33m\u001b[0m\u001b[1;33m\u001b[0m\u001b[0m\n\u001b[0m",
      "\u001b[1;31mKeyError\u001b[0m: 'd'"
     ]
    }
   ],
   "source": [
    "# get으로 키 접근 시 없으면 None나오고 프로그램이 죽진 않는다\n",
    "print(a.get('d'))\n",
    "\n",
    "# 바로 접근은 죽는다\n",
    "a['d']"
   ]
  },
  {
   "cell_type": "code",
   "execution_count": 53,
   "metadata": {},
   "outputs": [
    {
     "name": "stdout",
     "output_type": "stream",
     "text": [
      "{'a': 1, 'b': 2, 'c': 3}\n",
      "dict_keys(['a', 'b', 'c'])\n",
      "['a', 'b', 'c']\n",
      "dict_values([1, 2, 3])\n",
      "[1, 2, 3]\n"
     ]
    },
    {
     "data": {
      "text/plain": [
       "[('a', 1), ('b', 2), ('c', 3)]"
      ]
     },
     "execution_count": 53,
     "metadata": {},
     "output_type": "execute_result"
    }
   ],
   "source": [
    "print(a)\n",
    "\n",
    "# 반복문에서 주로 사용함\n",
    "\n",
    "# 모든 키 출력\n",
    "print(a.keys())\n",
    "\n",
    "# 리스트로 변환도 가능\n",
    "print(list(a.keys()))\n",
    "\n",
    "# 모든 벨류 출력\n",
    "print(a.values())\n",
    "\n",
    "# 리스트로 변환도 가능\n",
    "print(list(a.values()))\n",
    "\n",
    "# 키-벨류 튜플로 된 리스트 반환\n",
    "list(a.items())"
   ]
  },
  {
   "cell_type": "code",
   "execution_count": null,
   "metadata": {},
   "outputs": [],
   "source": []
  }
 ],
 "metadata": {
  "kernelspec": {
   "display_name": "Python 3",
   "language": "python",
   "name": "python3"
  },
  "language_info": {
   "codemirror_mode": {
    "name": "ipython",
    "version": 3
   },
   "file_extension": ".py",
   "mimetype": "text/x-python",
   "name": "python",
   "nbconvert_exporter": "python",
   "pygments_lexer": "ipython3",
   "version": "3.7.4"
  }
 },
 "nbformat": 4,
 "nbformat_minor": 2
}
