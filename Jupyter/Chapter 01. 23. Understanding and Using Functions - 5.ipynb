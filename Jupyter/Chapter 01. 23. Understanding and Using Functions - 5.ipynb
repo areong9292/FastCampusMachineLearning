{
 "cells": [
  {
   "cell_type": "markdown",
   "metadata": {},
   "source": [
    "1. 주어진 숫자 리스트의 평균을 구하는 함수를 출력하시오"
   ]
  },
  {
   "cell_type": "code",
   "execution_count": 17,
   "metadata": {},
   "outputs": [
    {
     "data": {
      "text/plain": [
       "2.0"
      ]
     },
     "execution_count": 17,
     "metadata": {},
     "output_type": "execute_result"
    }
   ],
   "source": [
    "# 입력 - 숫자 리스트\n",
    "# 출력 - 숫자 리스트의 평균\n",
    "def calcAverage(list):\n",
    "    sum = 0\n",
    "    for item in list:\n",
    "        sum += item\n",
    "    \n",
    "    return sum / len(list)\n",
    "\n",
    "calcAverage([1,2,3])\n",
    "\n",
    "calcAverageLambda = lambda x:sum(x) / len(x)\n",
    "calcAverageLambda([1,2,3])"
   ]
  },
  {
   "cell_type": "markdown",
   "metadata": {},
   "source": [
    "2. 해당 숫자가 소수인지 아닌지 판별하시오"
   ]
  },
  {
   "cell_type": "code",
   "execution_count": 18,
   "metadata": {},
   "outputs": [
    {
     "data": {
      "text/plain": [
       "True"
      ]
     },
     "execution_count": 18,
     "metadata": {},
     "output_type": "execute_result"
    }
   ],
   "source": [
    "def odd(x):\n",
    "    check = 2\n",
    "    while check < x:\n",
    "        if x % check == 0:\n",
    "            return False\n",
    "        \n",
    "        check += 1\n",
    "        \n",
    "    return True\n",
    "\n",
    "odd(17)"
   ]
  },
  {
   "cell_type": "markdown",
   "metadata": {},
   "source": [
    "3. 2부터 해당 숫자 사이에 소수가 몇개인지 출력하는 함수를 구하시오"
   ]
  },
  {
   "cell_type": "code",
   "execution_count": 12,
   "metadata": {},
   "outputs": [
    {
     "name": "stdout",
     "output_type": "stream",
     "text": [
      "6\n"
     ]
    }
   ],
   "source": [
    "def countOdd(x):\n",
    "    cnt = 0\n",
    "    check = 2\n",
    "    while check < x:\n",
    "        if odd(check):\n",
    "            cnt += 1\n",
    "        \n",
    "        check += 1\n",
    "    \n",
    "    return cnt\n",
    "\n",
    "z = countOdd(17)\n",
    "print(z)"
   ]
  }
 ],
 "metadata": {
  "kernelspec": {
   "display_name": "Python 3",
   "language": "python",
   "name": "python3"
  },
  "language_info": {
   "codemirror_mode": {
    "name": "ipython",
    "version": 3
   },
   "file_extension": ".py",
   "mimetype": "text/x-python",
   "name": "python",
   "nbconvert_exporter": "python",
   "pygments_lexer": "ipython3",
   "version": "3.7.4"
  }
 },
 "nbformat": 4,
 "nbformat_minor": 2
}
