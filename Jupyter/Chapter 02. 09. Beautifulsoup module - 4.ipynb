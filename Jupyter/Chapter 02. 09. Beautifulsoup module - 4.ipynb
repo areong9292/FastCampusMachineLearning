{
 "cells": [
  {
   "cell_type": "code",
   "execution_count": 3,
   "metadata": {},
   "outputs": [],
   "source": [
    "import requests\n",
    "from bs4 import BeautifulSoup\n",
    "\n",
    "import re"
   ]
  },
  {
   "cell_type": "code",
   "execution_count": 4,
   "metadata": {},
   "outputs": [],
   "source": [
    "url = 'https://news.v.daum.net/v/20190728165812603'\n",
    "resp = requests.get(url)\n",
    "\n",
    "# beautifulsoup 모듈로 html 파일 가져온다\n",
    "soup = BeautifulSoup(resp.text)"
   ]
  },
  {
   "cell_type": "code",
   "execution_count": 6,
   "metadata": {},
   "outputs": [
    {
     "data": {
      "text/plain": [
       "[<h1> <a class=\"link_daum\" href=\"https://www.daum.net/\"> <img alt=\"Daum\" class=\"thumb_g\" height=\"19\" src=\"//t1.daumcdn.net/media/news/news2016/retina/logo_daum.jpg\" width=\"45\"/> </a> <a href=\"https://media.daum.net/\" id=\"kakaoServiceLogo\"><span class=\"ir_wa\">뉴스</span></a> </h1>,\n",
       " <h2 class=\"screen_out\">검색</h2>,\n",
       " <h2 class=\"screen_out\">뉴스 메인메뉴</h2>,\n",
       " <h2 class=\"screen_out\" id=\"kakaoBody\">IT</h2>,\n",
       " <h3 class=\"tit_view\" data-translation=\"\">일론머스크 \"테슬라에서 넷플릭스·유튜브 즐길 날 온다\"</h3>,\n",
       " <h3 class=\"txt_newsview\" data-reactid=\".u47bilppdu.0\">많이본 뉴스</h3>,\n",
       " <h3 class=\"txt_newsview\">포토&amp;TV</h3>,\n",
       " <h3 class=\"txt_newsview\">실시간 이슈</h3>,\n",
       " <h3 class=\"txt_newsview\">이 시각 추천뉴스</h3>,\n",
       " <h3 class=\"txt_newsview\">실시간 주요이슈</h3>,\n",
       " <h2 class=\"tit_direct\">바로가기</h2>,\n",
       " <h2 class=\"screen_out\">서비스 이용정보</h2>]"
      ]
     },
     "execution_count": 6,
     "metadata": {},
     "output_type": "execute_result"
    }
   ],
   "source": [
    "# 정규 표현식으로 h로 시작하고 숫자로 끝나는 모든 태그를 검색한다\n",
    "soup.find_all(re.compile('h\\d'))"
   ]
  },
  {
   "cell_type": "code",
   "execution_count": 10,
   "metadata": {},
   "outputs": [
    {
     "data": {
      "text/plain": [
       "[<img alt=\"Daum\" class=\"thumb_g\" height=\"19\" src=\"//t1.daumcdn.net/media/news/news2016/retina/logo_daum.jpg\" width=\"45\"/>,\n",
       " <img alt=\"일론 머스크 테슬라 최고경영자(CEO) [이미지출처=로이터연합뉴스]\" class=\"thumb_g_article\" dmcf-mid=\"NBMY3ZZhN4\" dmcf-mtype=\"image\" height=\"366\" src=\"https://t1.daumcdn.net/news/201907/28/akn/20190728165813230vjsq.jpg\" width=\"550\"/>,\n",
       " <img alt=\"영등포구, 취약계층에 신종코로나 예방물품 세트 3만개 지원\" class=\"thumb_g\" src=\"https://img1.daumcdn.net/thumb/S288x280.q70/?fname=https://t1.daumcdn.net/news/202002/04/yonhap/20200204204952751ymtx.jpg\"/>,\n",
       " <img alt=\"품귀 틈탄 '마스크 사기꾼'..난동 20대는 '확진자' 행세\" class=\"thumb_g\" src=\"https://img1.daumcdn.net/thumb/S288x280.q70/?fname=https://t1.daumcdn.net/news/202002/04/JTBC/20200204205021669txjy.jpg\"/>,\n",
       " <img alt=\"\" class=\"thumb_g\" height=\"54\" src=\"https://img1.daumcdn.net/thumb/S168x108.q70/?fname=https://t1.daumcdn.net/news/202002/04/yonhap/20200204204407308setm.jpg\" width=\"84\"/>,\n",
       " <img alt=\"\" class=\"thumb_g\" height=\"54\" src=\"https://img1.daumcdn.net/thumb/S168x108.q70/?fname=https://t1.daumcdn.net/news/202002/04/newsis/20200204114108480yoqo.jpg\" width=\"84\"/>,\n",
       " <img alt=\"\" class=\"thumb_g\" height=\"54\" src=\"https://img1.daumcdn.net/thumb/S168x108.q70/?fname=https://t1.daumcdn.net/news/202002/04/yonhap/20200204161638285relf.jpg\" width=\"84\"/>]"
      ]
     },
     "execution_count": 10,
     "metadata": {},
     "output_type": "execute_result"
    }
   ],
   "source": [
    "# 모든 img 태그 중 .jpg 이미지만 뽑아냄\n",
    "# .+ - 모든 문자가 올 수 있고 1번 이상(한글자 이상)이 온다\n",
    "# \\. - 진짜 . 문자를 뜻함\n",
    "# jpg - jpg 문자를 뜻함\n",
    "soup.find_all('img', attrs={'src': re.compile('.+\\.jpg')})"
   ]
  },
  {
   "cell_type": "code",
   "execution_count": 13,
   "metadata": {},
   "outputs": [
    {
     "data": {
      "text/plain": [
       "[<h3 class=\"tit_view\" data-translation=\"\">일론머스크 \"테슬라에서 넷플릭스·유튜브 즐길 날 온다\"</h3>,\n",
       " <h3 class=\"txt_newsview\" data-reactid=\".u47bilppdu.0\">많이본 뉴스</h3>,\n",
       " <h3 class=\"txt_newsview\">포토&amp;TV</h3>,\n",
       " <h3 class=\"txt_newsview\">실시간 이슈</h3>,\n",
       " <h3 class=\"txt_newsview\">이 시각 추천뉴스</h3>,\n",
       " <h3 class=\"txt_newsview\">실시간 주요이슈</h3>]"
      ]
     },
     "execution_count": 13,
     "metadata": {},
     "output_type": "execute_result"
    }
   ],
   "source": [
    "# view로 끝나는 모든 태그\n",
    "soup.find_all('h3', class_=re.compile('.+view$'))"
   ]
  }
 ],
 "metadata": {
  "kernelspec": {
   "display_name": "Python 3",
   "language": "python",
   "name": "python3"
  },
  "language_info": {
   "codemirror_mode": {
    "name": "ipython",
    "version": 3
   },
   "file_extension": ".py",
   "mimetype": "text/x-python",
   "name": "python",
   "nbconvert_exporter": "python",
   "pygments_lexer": "ipython3",
   "version": "3.7.4"
  }
 },
 "nbformat": 4,
 "nbformat_minor": 2
}
