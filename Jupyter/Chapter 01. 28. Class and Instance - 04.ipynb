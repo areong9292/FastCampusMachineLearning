{
 "cells": [
  {
   "cell_type": "markdown",
   "metadata": {},
   "source": [
    "### self\n",
    "- 파이썬의 method는 항상 첫번째 인자로 self를 전달\n",
    "- this와 같다\n",
    "- 객체 자체의 주소"
   ]
  },
  {
   "cell_type": "code",
   "execution_count": 6,
   "metadata": {},
   "outputs": [
    {
     "name": "stdout",
     "output_type": "stream",
     "text": [
      "self :  <__main__.Person object at 0x0000018A6EDF0F08>\n",
      "self :  <__main__.Person object at 0x0000018A6EF77848>\n",
      "<__main__.Person object at 0x0000018A6EDF0F08>\n",
      "<__main__.Person object at 0x0000018A6EF77848>\n",
      "self :  <__main__.Person object at 0x0000018A6EDF0F08>\n",
      "Aaron 은 잠을 잡니다.\n",
      "self :  <__main__.Person object at 0x0000018A6EF77848>\n",
      "Bob 은 잠을 잡니다.\n"
     ]
    }
   ],
   "source": [
    "class Person:\n",
    "    def __init__(self, name, age):\n",
    "        print('self : ', self)\n",
    "        self.name = name\n",
    "        self.age = age\n",
    "    \n",
    "    # 이름이 굳이 self일 필요는 없다\n",
    "    # 관례적으로 self일 뿐\n",
    "    def sleep(self):\n",
    "        print('self : ', self)\n",
    "        print(self.name, '은 잠을 잡니다.')\n",
    "        \n",
    "a = Person('Aaron', 20)\n",
    "b = Person('Bob', 30)\n",
    "\n",
    "print(a)\n",
    "print(b)\n",
    "\n",
    "a.sleep()\n",
    "b.sleep()"
   ]
  }
 ],
 "metadata": {
  "kernelspec": {
   "display_name": "Python 3",
   "language": "python",
   "name": "python3"
  },
  "language_info": {
   "codemirror_mode": {
    "name": "ipython",
    "version": 3
   },
   "file_extension": ".py",
   "mimetype": "text/x-python",
   "name": "python",
   "nbconvert_exporter": "python",
   "pygments_lexer": "ipython3",
   "version": "3.7.4"
  }
 },
 "nbformat": 4,
 "nbformat_minor": 2
}
