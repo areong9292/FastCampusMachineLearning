{
 "cells": [
  {
   "cell_type": "code",
   "execution_count": 8,
   "metadata": {},
   "outputs": [
    {
     "name": "stdout",
     "output_type": "stream",
     "text": [
      "<__main__.Person object at 0x000001B7C3BB3148> is generated\n",
      "<__main__.Person object at 0x000001B7C3BB30C8> is generated\n",
      "aaron 20\n"
     ]
    }
   ],
   "source": [
    "class Person:\n",
    "    # 생성자 - 객체 생성 시 호출 됨\n",
    "    # self는 항상 옴\n",
    "    def __init__(self):\n",
    "        print(self, 'is generated')\n",
    "        \n",
    "        # 클래스 속성 추가\n",
    "        self.name = 'Kate'\n",
    "        self.age = 10\n",
    "        \n",
    "p1 = Person()\n",
    "p2 = Person()\n",
    "\n",
    "p1.name = 'aaron'\n",
    "p1.age = 20\n",
    "\n",
    "print(p1.name, p1.age)"
   ]
  },
  {
   "cell_type": "code",
   "execution_count": 13,
   "metadata": {},
   "outputs": [
    {
     "name": "stdout",
     "output_type": "stream",
     "text": [
      "<__main__.Person object at 0x000001B7C39C3848> is generated\n",
      "<__main__.Person object at 0x000001B7C39C3548> is generated\n",
      "<__main__.Person object at 0x000001B7C2FF0248> is generated\n",
      "Bob 30\n",
      "Kate 20\n",
      "Aaron 10\n"
     ]
    }
   ],
   "source": [
    "class Person:\n",
    "    # 생성자 - 객체 생성 시 호출 됨\n",
    "    # self는 항상 옴\n",
    "    # name과 클래스 속성 값이 꼭 같을 필요는 없다\n",
    "    # 함수이므로 초기 값 지정 가능\n",
    "    def __init__(self, name, age = 10):\n",
    "        print(self, 'is generated')\n",
    "        \n",
    "        # 클래스 속성 추가\n",
    "        self.name = name\n",
    "        self.age = age\n",
    "\n",
    "# 객체를 생성하면서 바로 값을 지정\n",
    "p1 = Person('Bob', 30)\n",
    "p2 = Person('Kate', 20)\n",
    "p3 = Person('Aaron')\n",
    "\n",
    "print(p1.name, p1.age)\n",
    "print(p2.name, p2.age)\n",
    "print(p3.name, p3.age)"
   ]
  }
 ],
 "metadata": {
  "kernelspec": {
   "display_name": "Python 3",
   "language": "python",
   "name": "python3"
  },
  "language_info": {
   "codemirror_mode": {
    "name": "ipython",
    "version": 3
   },
   "file_extension": ".py",
   "mimetype": "text/x-python",
   "name": "python",
   "nbconvert_exporter": "python",
   "pygments_lexer": "ipython3",
   "version": "3.7.4"
  }
 },
 "nbformat": 4,
 "nbformat_minor": 2
}
