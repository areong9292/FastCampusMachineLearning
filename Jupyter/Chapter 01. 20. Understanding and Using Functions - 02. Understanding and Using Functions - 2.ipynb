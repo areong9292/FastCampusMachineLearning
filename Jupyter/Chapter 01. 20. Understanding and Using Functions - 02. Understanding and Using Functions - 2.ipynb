{
 "cells": [
  {
   "cell_type": "code",
   "execution_count": 2,
   "metadata": {},
   "outputs": [
    {
     "name": "stdout",
     "output_type": "stream",
     "text": [
      "1!2!3%2 3 4\n"
     ]
    }
   ],
   "source": [
    "# print함수에도 기본 파라미터가 있다\n",
    "# 기본 값이 정해져있어 생략된 것\n",
    "# sep, end, ...\n",
    "print(1, 2, 3, sep = '!', end = '%')\n",
    "print(2, 3, 4)"
   ]
  },
  {
   "cell_type": "code",
   "execution_count": 3,
   "metadata": {},
   "outputs": [
    {
     "name": "stdout",
     "output_type": "stream",
     "text": [
      "10 20 1\n"
     ]
    }
   ],
   "source": [
    "# def test(a, b=3, c):\n",
    "# 이런 식으로 중간에 기본 값을 지정할 수 없다\n",
    "# 오른쪽 부터 채워야함\n",
    "def test(a, b, c = 1):\n",
    "    print(a, b, c)\n",
    "    \n",
    "test(10, 20)"
   ]
  },
  {
   "cell_type": "code",
   "execution_count": 6,
   "metadata": {},
   "outputs": [
    {
     "data": {
      "text/plain": [
       "15"
      ]
     },
     "execution_count": 6,
     "metadata": {},
     "output_type": "execute_result"
    }
   ],
   "source": [
    "# 파라미터를 직접 지정할 수 있다\n",
    "def test(x, y, z):\n",
    "    a = x + y + z\n",
    "    return a\n",
    "\n",
    "test(x = 10, y = 20, z = 3)\n",
    "\n",
    "# 순서 바꿀 수 도 있음\n",
    "test(x = 10, z = 2, y = 3)"
   ]
  },
  {
   "cell_type": "code",
   "execution_count": 8,
   "metadata": {},
   "outputs": [
    {
     "name": "stdout",
     "output_type": "stream",
     "text": [
      "6\n"
     ]
    },
    {
     "data": {
      "text/plain": [
       "15"
      ]
     },
     "execution_count": 8,
     "metadata": {},
     "output_type": "execute_result"
    }
   ],
   "source": [
    "def weird_multiply(x, y):\n",
    "    if x > 10:\n",
    "        return x * y\n",
    "    \n",
    "    print(x + y)\n",
    "    return (x + 2) * y\n",
    "    # 이 코드는 실행 안됨 return 이 함수를 끝내기 때문\n",
    "    print(x + y)\n",
    "    \n",
    "weird_multiply(1, 5)"
   ]
  },
  {
   "cell_type": "code",
   "execution_count": 11,
   "metadata": {},
   "outputs": [
    {
     "name": "stdout",
     "output_type": "stream",
     "text": [
      "None\n"
     ]
    }
   ],
   "source": [
    "def weird_multiply(x, y):\n",
    "    if x > 10:\n",
    "        # 그냥 return 이면 None 반환함\n",
    "        return\n",
    "    \n",
    "    print(x + y)\n",
    "    return (x + 2) * y\n",
    "    \n",
    "c = weird_multiply(12, 5)\n",
    "print(c)"
   ]
  },
  {
   "cell_type": "code",
   "execution_count": 15,
   "metadata": {},
   "outputs": [
    {
     "name": "stdout",
     "output_type": "stream",
     "text": [
      "None\n"
     ]
    }
   ],
   "source": [
    "def weird_multiply(x, y):\n",
    "    if x > 10:\n",
    "        return x * y\n",
    "    \n",
    "    # 리턴이 없더라도 None이 반환됨\n",
    "    \n",
    "c = weird_multiply(2, 5)\n",
    "print(c)"
   ]
  },
  {
   "cell_type": "code",
   "execution_count": 17,
   "metadata": {},
   "outputs": [
    {
     "name": "stdout",
     "output_type": "stream",
     "text": [
      "<class 'tuple'>\n",
      "(23, 60)\n",
      "23\n",
      "60\n"
     ]
    }
   ],
   "source": [
    "# 튜플로 여러 개 값 반환 가능\n",
    "def add_mul(x, y):\n",
    "    s = x + y\n",
    "    m = x * y\n",
    "    \n",
    "    return s, m\n",
    "\n",
    "c = add_mul(20, 3)\n",
    "print(type(c))\n",
    "print(c)\n",
    "\n",
    "a, b = add_mul(20, 3)\n",
    "print(a)\n",
    "print(b)"
   ]
  }
 ],
 "metadata": {
  "kernelspec": {
   "display_name": "Python 3",
   "language": "python",
   "name": "python3"
  },
  "language_info": {
   "codemirror_mode": {
    "name": "ipython",
    "version": 3
   },
   "file_extension": ".py",
   "mimetype": "text/x-python",
   "name": "python",
   "nbconvert_exporter": "python",
   "pygments_lexer": "ipython3",
   "version": "3.7.4"
  }
 },
 "nbformat": 4,
 "nbformat_minor": 2
}
